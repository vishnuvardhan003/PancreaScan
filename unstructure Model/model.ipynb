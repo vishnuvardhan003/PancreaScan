{
 "cells": [
  {
   "cell_type": "code",
   "execution_count": 2,
   "metadata": {
    "executionInfo": {
     "elapsed": 4002,
     "status": "ok",
     "timestamp": 1610791195915,
     "user": {
      "displayName": "sathish kumar",
      "photoUrl": "",
      "userId": "09811313852492528034"
     },
     "user_tz": -330
    },
    "id": "-JgPqiPJGB0a"
   },
   "outputs": [],
   "source": [
    "import tensorflow as tf\n",
    "import os\n",
    "from tensorflow.keras.preprocessing.image import ImageDataGenerator\n",
    "from tensorflow.keras import layers, models\n",
    "import matplotlib.pyplot as plt\n",
    "import numpy as np\n",
    "from sklearn.model_selection import train_test_split\n",
    "from tensorflow import keras\n",
    "import warnings\n",
    "import os\n",
    "import glob\n",
    "import matplotlib.pyplot as plt\n",
    "import keras\n",
    "from keras.models import Sequential\n",
    "from keras.layers import Dense,Dropout,Flatten\n",
    "from keras.layers import Conv2D,MaxPooling2D,Activation,AveragePooling2D,BatchNormalization\n",
    "from keras.models import Model\n",
    "from keras.layers import Input, Flatten, Dense, Dropout\n",
    "from keras.callbacks import EarlyStopping  \n",
    "from sklearn.metrics import confusion_matrix\n",
    "import itertools\n",
    "import matplotlib.pyplot as plt"
   ]
  },
  {
   "cell_type": "code",
   "execution_count": 3,
   "metadata": {
    "executionInfo": {
     "elapsed": 3702,
     "status": "ok",
     "timestamp": 1610791195920,
     "user": {
      "displayName": "sathish kumar",
      "photoUrl": "",
      "userId": "09811313852492528034"
     },
     "user_tz": -330
    },
    "id": "SPWeFH5EGB0n"
   },
   "outputs": [],
   "source": [
    "train_dir='C:/Users/N Vishnu/Web page/unstructure Model/DATASET/DATASET/train/train'\n",
    "test_dir='C:/Users/N Vishnu/Web page/unstructure Model/DATASET/DATASET/test/test'\n"
   ]
  },
  {
   "cell_type": "code",
   "execution_count": 4,
   "metadata": {
    "executionInfo": {
     "elapsed": 3489,
     "status": "ok",
     "timestamp": 1610791195921,
     "user": {
      "displayName": "sathish kumar",
      "photoUrl": "",
      "userId": "09811313852492528034"
     },
     "user_tz": -330
    },
    "id": "9h-qH8S-GB0p"
   },
   "outputs": [],
   "source": [
    "batch_size = 10\n",
    "epochs = 5\n",
    "img_height = 224\n",
    "img_width = 224"
   ]
  },
  {
   "cell_type": "code",
   "execution_count": 5,
   "metadata": {
    "colab": {
     "base_uri": "https://localhost:8080/"
    },
    "executionInfo": {
     "elapsed": 39745,
     "status": "ok",
     "timestamp": 1610791232328,
     "user": {
      "displayName": "sathish kumar",
      "photoUrl": "",
      "userId": "09811313852492528034"
     },
     "user_tz": -330
    },
    "id": "esAOf5LfGB0p",
    "outputId": "9234bb8c-dda3-4b34-b445-09187ea4337b"
   },
   "outputs": [
    {
     "name": "stdout",
     "output_type": "stream",
     "text": [
      "Found 999 images belonging to 2 classes.\n"
     ]
    }
   ],
   "source": [
    "train_image_generator = ImageDataGenerator(rescale=1./255)  \n",
    "train_data_gen = train_image_generator.flow_from_directory(batch_size=batch_size,directory=train_dir,shuffle=True,target_size=(img_height, img_width),class_mode='categorical')"
   ]
  },
  {
   "cell_type": "code",
   "execution_count": 6,
   "metadata": {
    "colab": {
     "base_uri": "https://localhost:8080/"
    },
    "executionInfo": {
     "elapsed": 47836,
     "status": "ok",
     "timestamp": 1610791240619,
     "user": {
      "displayName": "sathish kumar",
      "photoUrl": "",
      "userId": "09811313852492528034"
     },
     "user_tz": -330
    },
    "id": "7HTI_-XaGB0s",
    "outputId": "040eb250-e8d5-4bdd-c603-6c6465ddbba2"
   },
   "outputs": [
    {
     "name": "stdout",
     "output_type": "stream",
     "text": [
      "Found 412 images belonging to 2 classes.\n"
     ]
    }
   ],
   "source": [
    "val_image_generator = ImageDataGenerator(rescale=1./255)  \n",
    "val_data_gen = val_image_generator .flow_from_directory(batch_size=batch_size,directory=test_dir,shuffle=True,target_size=(img_height, img_width),class_mode='categorical')"
   ]
  },
  {
   "cell_type": "code",
   "execution_count": 7,
   "metadata": {
    "executionInfo": {
     "elapsed": 47667,
     "status": "ok",
     "timestamp": 1610791240624,
     "user": {
      "displayName": "sathish kumar",
      "photoUrl": "",
      "userId": "09811313852492528034"
     },
     "user_tz": -330
    },
    "id": "-h4l7WpkGB0t"
   },
   "outputs": [],
   "source": []
  },
  {
   "cell_type": "code",
   "execution_count": 8,
   "metadata": {
    "executionInfo": {
     "elapsed": 47463,
     "status": "ok",
     "timestamp": 1610791240626,
     "user": {
      "displayName": "sathish kumar",
      "photoUrl": "",
      "userId": "09811313852492528034"
     },
     "user_tz": -330
    },
    "id": "4qVhmZxwGB0t"
   },
   "outputs": [],
   "source": [
    "# img_width,img_height =224,224\n",
    "# input_shape=(img_width,img_height,3)"
   ]
  },
  {
   "cell_type": "code",
   "execution_count": 9,
   "metadata": {
    "colab": {
     "base_uri": "https://localhost:8080/"
    },
    "executionInfo": {
     "elapsed": 50123,
     "status": "ok",
     "timestamp": 1610791243514,
     "user": {
      "displayName": "sathish kumar",
      "photoUrl": "",
      "userId": "09811313852492528034"
     },
     "user_tz": -330
    },
    "id": "ysGVNMvEGB0u",
    "outputId": "07f1ce30-acfd-404b-a7c5-38c8ab3c87f9"
   },
   "outputs": [],
   "source": [
    "# model = Sequential()\n",
    "# model.add(Conv2D(32, (5, 5),input_shape=input_shape,activation='relu'))\n",
    "# model.add(MaxPooling2D(pool_size=(3, 3)))\n",
    "# model.add(Conv2D(32, (3, 3),activation='relu'))\n",
    "# model.add(MaxPooling2D(pool_size=(2, 2)))\n",
    "# model.add(Conv2D(64, (3, 3),activation='relu'))\n",
    "# model.add(MaxPooling2D(pool_size=(2, 2)))   \n",
    "# model.add(Flatten())\n",
    "# model.add(Dense(512,activation='relu'))\n",
    "# model.add(Dropout(0.25))\n",
    "# model.add(Dense(128,activation='relu'))          \n",
    "# model.add(Dense(2,activation='softmax'))"
   ]
  },
  {
   "cell_type": "code",
   "execution_count": 10,
   "metadata": {},
   "outputs": [],
   "source": [
    "input_shape = (224, 224, 3) \n",
    "inputs = Input(shape=input_shape)\n",
    "\n",
    "# Block 1 with Batch Normalization\n",
    "x = Conv2D(32, (5, 5), padding='same')(inputs)\n",
    "x = BatchNormalization()(x)\n",
    "x = Activation('relu')(x)\n",
    "x = MaxPooling2D(pool_size=(3, 3))(x)\n",
    "\n",
    "# Block 2 with Batch Normalization\n",
    "x = Conv2D(32, (3, 3), padding='same')(x)\n",
    "x = BatchNormalization()(x)\n",
    "x = Activation('relu')(x)\n",
    "x = MaxPooling2D(pool_size=(2, 2))(x)\n",
    "\n",
    "# Block 3 with Batch Normalization\n",
    "x = Conv2D(64, (3, 3), padding='same')(x)\n",
    "x = BatchNormalization()(x)\n",
    "x = Activation('relu')(x)\n",
    "x = MaxPooling2D(pool_size=(2, 2))(x)\n",
    "\n",
    "# Flatten and Fully Connected Layers\n",
    "x = Flatten()(x)\n",
    "x = Dense(512)(x)\n",
    "x = BatchNormalization()(x)\n",
    "x = Activation('relu')(x)\n",
    "x = Dropout(0.25)(x)\n",
    "x = Dense(128, activation='relu')(x)\n",
    "\n",
    "outputs = Dense(2, activation='softmax')(x)\n",
    "\n",
    "model = Model(inputs=inputs, outputs=outputs)\n",
    "\n",
    "model.compile(optimizer='adam', loss='categorical_crossentropy', metrics=['accuracy'])\n",
    "\n",
    "early_stopping = EarlyStopping(\n",
    "    monitor='val_loss',       \n",
    "    patience=5,               # Number of epochs to wait before stopping if no improvement\n",
    "    restore_best_weights=True\n",
    ")"
   ]
  },
  {
   "cell_type": "code",
   "execution_count": 11,
   "metadata": {
    "executionInfo": {
     "elapsed": 49859,
     "status": "ok",
     "timestamp": 1610791243516,
     "user": {
      "displayName": "sathish kumar",
      "photoUrl": "",
      "userId": "09811313852492528034"
     },
     "user_tz": -330
    },
    "id": "fPFSImqHGB0u"
   },
   "outputs": [
    {
     "name": "stdout",
     "output_type": "stream",
     "text": [
      "Model: \"model\"\n",
      "_________________________________________________________________\n",
      " Layer (type)                Output Shape              Param #   \n",
      "=================================================================\n",
      " input_1 (InputLayer)        [(None, 224, 224, 3)]     0         \n",
      "                                                                 \n",
      " conv2d (Conv2D)             (None, 224, 224, 32)      2432      \n",
      "                                                                 \n",
      " batch_normalization (Batch  (None, 224, 224, 32)      128       \n",
      " Normalization)                                                  \n",
      "                                                                 \n",
      " activation (Activation)     (None, 224, 224, 32)      0         \n",
      "                                                                 \n",
      " max_pooling2d (MaxPooling2  (None, 74, 74, 32)        0         \n",
      " D)                                                              \n",
      "                                                                 \n",
      " conv2d_1 (Conv2D)           (None, 74, 74, 32)        9248      \n",
      "                                                                 \n",
      " batch_normalization_1 (Bat  (None, 74, 74, 32)        128       \n",
      " chNormalization)                                                \n",
      "                                                                 \n",
      " activation_1 (Activation)   (None, 74, 74, 32)        0         \n",
      "                                                                 \n",
      " max_pooling2d_1 (MaxPoolin  (None, 37, 37, 32)        0         \n",
      " g2D)                                                            \n",
      "                                                                 \n",
      " conv2d_2 (Conv2D)           (None, 37, 37, 64)        18496     \n",
      "                                                                 \n",
      " batch_normalization_2 (Bat  (None, 37, 37, 64)        256       \n",
      " chNormalization)                                                \n",
      "                                                                 \n",
      " activation_2 (Activation)   (None, 37, 37, 64)        0         \n",
      "                                                                 \n",
      " max_pooling2d_2 (MaxPoolin  (None, 18, 18, 64)        0         \n",
      " g2D)                                                            \n",
      "                                                                 \n",
      " flatten (Flatten)           (None, 20736)             0         \n",
      "                                                                 \n",
      " dense (Dense)               (None, 512)               10617344  \n",
      "                                                                 \n",
      " batch_normalization_3 (Bat  (None, 512)               2048      \n",
      " chNormalization)                                                \n",
      "                                                                 \n",
      " activation_3 (Activation)   (None, 512)               0         \n",
      "                                                                 \n",
      " dropout (Dropout)           (None, 512)               0         \n",
      "                                                                 \n",
      " dense_1 (Dense)             (None, 128)               65664     \n",
      "                                                                 \n",
      " dense_2 (Dense)             (None, 2)                 258       \n",
      "                                                                 \n",
      "=================================================================\n",
      "Total params: 10716002 (40.88 MB)\n",
      "Trainable params: 10714722 (40.87 MB)\n",
      "Non-trainable params: 1280 (5.00 KB)\n",
      "_________________________________________________________________\n"
     ]
    }
   ],
   "source": [
    "model.summary()"
   ]
  },
  {
   "cell_type": "code",
   "execution_count": 12,
   "metadata": {
    "colab": {
     "base_uri": "https://localhost:8080/"
    },
    "executionInfo": {
     "elapsed": 49410,
     "status": "ok",
     "timestamp": 1610791243517,
     "user": {
      "displayName": "sathish kumar",
      "photoUrl": "",
      "userId": "09811313852492528034"
     },
     "user_tz": -330
    },
    "id": "MIX3MsZgGB0v",
    "outputId": "a6163d8e-0ad6-4049-9d97-45c4beafeb17"
   },
   "outputs": [],
   "source": [
    "model.compile(optimizer='adam', \n",
    "              loss='categorical_crossentropy', \n",
    "              metrics=['accuracy'])"
   ]
  },
  {
   "cell_type": "code",
   "execution_count": 13,
   "metadata": {
    "executionInfo": {
     "elapsed": 50040,
     "status": "ok",
     "timestamp": 1610791244482,
     "user": {
      "displayName": "sathish kumar",
      "photoUrl": "",
      "userId": "09811313852492528034"
     },
     "user_tz": -330
    },
    "id": "_n0Anzw2GB0w",
    "scrolled": false
   },
   "outputs": [
    {
     "name": "stdout",
     "output_type": "stream",
     "text": [
      "Epoch 1/20\n",
      "1/1 [==============================] - 2s 2s/step - loss: 0.7836 - accuracy: 0.6000 - val_loss: 0.4919 - val_accuracy: 0.5000\n",
      "Epoch 2/20\n",
      "1/1 [==============================] - 0s 425ms/step - loss: 0.0210 - accuracy: 1.0000 - val_loss: 0.5410 - val_accuracy: 0.5000\n",
      "Epoch 3/20\n",
      "1/1 [==============================] - 0s 453ms/step - loss: 0.0028 - accuracy: 1.0000 - val_loss: 0.5186 - val_accuracy: 0.5000\n",
      "Epoch 4/20\n",
      "1/1 [==============================] - 0s 481ms/step - loss: 0.0019 - accuracy: 1.0000 - val_loss: 0.4669 - val_accuracy: 0.5000\n",
      "Epoch 5/20\n",
      "1/1 [==============================] - 0s 481ms/step - loss: 5.9934e-04 - accuracy: 1.0000 - val_loss: 0.4084 - val_accuracy: 0.5000\n",
      "Epoch 6/20\n",
      "1/1 [==============================] - 1s 568ms/step - loss: 3.9626e-04 - accuracy: 1.0000 - val_loss: 0.3478 - val_accuracy: 0.7000\n",
      "Epoch 7/20\n",
      "1/1 [==============================] - 1s 615ms/step - loss: 5.1942e-04 - accuracy: 1.0000 - val_loss: 0.3091 - val_accuracy: 1.0000\n",
      "Epoch 8/20\n",
      "1/1 [==============================] - 1s 651ms/step - loss: 2.2047e-04 - accuracy: 1.0000 - val_loss: 0.2717 - val_accuracy: 1.0000\n",
      "Epoch 9/20\n",
      "1/1 [==============================] - 1s 617ms/step - loss: 1.8861e-04 - accuracy: 1.0000 - val_loss: 0.2342 - val_accuracy: 1.0000\n",
      "Epoch 10/20\n",
      "1/1 [==============================] - 1s 719ms/step - loss: 1.5722e-04 - accuracy: 1.0000 - val_loss: 0.1999 - val_accuracy: 1.0000\n",
      "Epoch 11/20\n",
      "1/1 [==============================] - 1s 641ms/step - loss: 3.6827e-04 - accuracy: 1.0000 - val_loss: 0.1747 - val_accuracy: 1.0000\n",
      "Epoch 12/20\n",
      "1/1 [==============================] - 1s 644ms/step - loss: 1.2633e-04 - accuracy: 1.0000 - val_loss: 0.1617 - val_accuracy: 1.0000\n",
      "Epoch 13/20\n",
      "1/1 [==============================] - 1s 807ms/step - loss: 2.0420e-04 - accuracy: 1.0000 - val_loss: 0.1593 - val_accuracy: 1.0000\n",
      "Epoch 14/20\n",
      "1/1 [==============================] - 1s 589ms/step - loss: 1.5506e-04 - accuracy: 1.0000 - val_loss: 0.1667 - val_accuracy: 1.0000\n",
      "Epoch 15/20\n",
      "1/1 [==============================] - 1s 637ms/step - loss: 9.9632e-05 - accuracy: 1.0000 - val_loss: 0.1802 - val_accuracy: 1.0000\n",
      "Epoch 16/20\n",
      "1/1 [==============================] - 1s 611ms/step - loss: 2.1772e-04 - accuracy: 1.0000 - val_loss: 0.2005 - val_accuracy: 1.0000\n",
      "Epoch 17/20\n",
      "1/1 [==============================] - 1s 610ms/step - loss: 4.7680e-05 - accuracy: 1.0000 - val_loss: 0.2272 - val_accuracy: 1.0000\n",
      "Epoch 18/20\n",
      "1/1 [==============================] - 1s 621ms/step - loss: 7.1160e-05 - accuracy: 1.0000 - val_loss: 0.2623 - val_accuracy: 1.0000\n"
     ]
    }
   ],
   "source": [
    "history = model.fit(\n",
    "    train_data_gen[0][0], train_data_gen[0][1],  \n",
    "    epochs=20, \n",
    "    validation_data=(val_data_gen[0][0], val_data_gen[0][1]),\n",
    "    callbacks=[early_stopping]  \n",
    ")"
   ]
  },
  {
   "cell_type": "code",
   "execution_count": 15,
   "metadata": {},
   "outputs": [
    {
     "name": "stdout",
     "output_type": "stream",
     "text": [
      "42/42 - 5s - 5s/epoch - 123ms/step\n"
     ]
    }
   ],
   "source": [
    "y=np.concatenate([val_data_gen.next()[1] for i in range(val_data_gen.__len__())])\n",
    "true_labels=np.argmax(y, axis=-1)\n",
    "prediction= model.predict(val_data_gen, verbose=2)\n",
    "prediction=np.argmax(prediction, axis=-1)"
   ]
  },
  {
   "cell_type": "code",
   "execution_count": 16,
   "metadata": {},
   "outputs": [],
   "source": [
    "def plot_confusion_matrix(cm, classes,\n",
    "                          normalize=False,\n",
    "                          title='Confusion matrix',\n",
    "                          cmap=plt.cm.Blues):\n",
    "    \"\"\"\n",
    "    This function prints and plots the confusion matrix.\n",
    "    Normalization can be applied by setting `normalize=True`.\n",
    "    \"\"\"\n",
    "    plt.imshow(cm, interpolation='nearest', cmap=cmap)\n",
    "    plt.title(title)\n",
    "    plt.colorbar()\n",
    "    tick_marks = np.arange(len(classes))\n",
    "    plt.xticks(tick_marks, classes, rotation=45)\n",
    "    plt.yticks(tick_marks, classes)\n",
    "\n",
    "    if normalize:\n",
    "        cm = cm.astype('float') / cm.sum(axis=1)[:, np.newaxis]\n",
    "        print(\"Normalized confusion matrix\")\n",
    "    else:\n",
    "        print('Confusion matrix, without normalization')\n",
    "\n",
    "    print(cm)\n",
    "\n",
    "    thresh = cm.max() / 2.\n",
    "    for i, j in itertools.product(range(cm.shape[0]), range(cm.shape[1])):\n",
    "        plt.text(j, i, cm[i, j],\n",
    "            horizontalalignment=\"center\",\n",
    "            color=\"white\" if cm[i, j] > thresh else \"black\")\n",
    "\n",
    "    plt.tight_layout()\n",
    "    plt.ylabel('True label')\n",
    "    plt.xlabel('Predicted label')"
   ]
  },
  {
   "cell_type": "code",
   "execution_count": 17,
   "metadata": {},
   "outputs": [],
   "source": [
    "cm = confusion_matrix(y_true=true_labels, y_pred=prediction)"
   ]
  },
  {
   "cell_type": "code",
   "execution_count": 18,
   "metadata": {},
   "outputs": [],
   "source": [
    "cm_plot_labels = ['pancreatic_tumor','Normal']"
   ]
  },
  {
   "cell_type": "code",
   "execution_count": null,
   "metadata": {},
   "outputs": [],
   "source": [
    "from sklearn.metrics import accuracy_score\n",
    "from sklearn.metrics import precision_score\n",
    "from sklearn.metrics import recall_score\n",
    "from sklearn.metrics import f1_score"
   ]
  },
  {
   "cell_type": "code",
   "execution_count": 19,
   "metadata": {},
   "outputs": [
    {
     "name": "stdout",
     "output_type": "stream",
     "text": [
      "Confusion matrix, without normalization\n",
      "[[224   1]\n",
      " [  0 187]]\n",
      "Accuracy: 0.998\n",
      "Precision: 0.995\n",
      "Recall: 0.998\n",
      "F-Measure: 0.998\n"
     ]
    },
    {
     "data": {
      "image/png": "[encoded data removed]",
      "text/plain": [
       "<Figure size 640x480 with 2 Axes>"
      ]
     },
     "metadata": {},
     "output_type": "display_data"
    }
   ],
   "source": [
    "plot_confusion_matrix(cm=cm, classes=cm_plot_labels, title='Confusion Matrix')\n",
    "\n",
    "acc=accuracy_score(true_labels,prediction) \n",
    "print('Accuracy: %.3f' % acc)\n",
    "\n",
    "precision = precision_score(true_labels,prediction,labels=[1,2], average='micro')\n",
    "print('Precision: %.3f' % precision)\n",
    "\n",
    "recall = recall_score(true_labels,prediction, average='micro')\n",
    "print('Recall: %.3f' % recall)\n",
    "\n",
    "score = f1_score(true_labels,prediction, average='micro')\n",
    "print('F-Measure: %.3f' % score)"
   ]
  },
  {
   "cell_type": "code",
   "execution_count": 20,
   "metadata": {
    "executionInfo": {
     "elapsed": 1614,
     "status": "ok",
     "timestamp": 1610793863258,
     "user": {
      "displayName": "sathish kumar",
      "photoUrl": "",
      "userId": "09811313852492528034"
     },
     "user_tz": -330
    },
    "id": "rONFCJWgGB0x"
   },
   "outputs": [
    {
     "name": "stderr",
     "output_type": "stream",
     "text": [
      "C:\\Users\\N Vishnu\\anaconda3\\lib\\site-packages\\keras\\src\\engine\\training.py:3000: UserWarning: You are saving your model as an HDF5 file via `model.save()`. This file format is considered legacy. We recommend using instead the native Keras format, e.g. `model.save('my_model.keras')`.\n",
      "  saving_api.save_model(\n"
     ]
    }
   ],
   "source": [
    "save_path = r'C:\\Users\\N Vishnu\\Web page\\save.h5'\n",
    "model.save(save_path)\n"
   ]
  },
  {
   "cell_type": "code",
   "execution_count": null,
   "metadata": {},
   "outputs": [],
   "source": []
  }
 ],
 "metadata": {
  "colab": {
   "collapsed_sections": [],
   "name": "leaf.ipynb",
   "provenance": []
  },
  "kernelspec": {
   "display_name": "Python 3 (ipykernel)",
   "language": "python",
   "name": "python3"
  },
  "language_info": {
   "codemirror_mode": {
    "name": "ipython",
    "version": 3
   },
   "file_extension": ".py",
   "mimetype": "text/x-python",
   "name": "python",
   "nbconvert_exporter": "python",
   "pygments_lexer": "ipython3",
   "version": "3.10.9"
  }
 },
 "nbformat": 4,
 "nbformat_minor": 1
}
