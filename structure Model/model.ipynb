{
 "cells": [
  {
   "cell_type": "code",
   "execution_count": 1,
   "metadata": {},
   "outputs": [],
   "source": [
    "import pandas as pd"
   ]
  },
  {
   "cell_type": "code",
   "execution_count": 2,
   "metadata": {},
   "outputs": [],
   "source": [
    "import matplotlib.pyplot as plt\n",
    "from functools import reduce\n",
    "import seaborn as sns"
   ]
  },
  {
   "cell_type": "code",
   "execution_count": 3,
   "metadata": {},
   "outputs": [],
   "source": [
    "df = pd.read_csv(\"C:/Users/N Vishnu/Major Project/JPPY2315/SOURCE CODE/model/structure Model/Debernardi et al 2020 data.csv\")"
   ]
  },
  {
   "cell_type": "code",
   "execution_count": 4,
   "metadata": {
    "scrolled": false
   },
   "outputs": [
    {
     "data": {
      "text/html": [
       "<div>\n",
       "<style scoped>\n",
       "    .dataframe tbody tr th:only-of-type {\n",
       "        vertical-align: middle;\n",
       "    }\n",
       "\n",
       "    .dataframe tbody tr th {\n",
       "        vertical-align: top;\n",
       "    }\n",
       "\n",
       "    .dataframe thead th {\n",
       "        text-align: right;\n",
       "    }\n",
       "</style>\n",
       "<table border=\"1\" class=\"dataframe\">\n",
       "  <thead>\n",
       "    <tr style=\"text-align: right;\">\n",
       "      <th></th>\n",
       "      <th>sample_id</th>\n",
       "      <th>patient_cohort</th>\n",
       "      <th>sample_origin</th>\n",
       "      <th>age</th>\n",
       "      <th>sex</th>\n",
       "      <th>diagnosis</th>\n",
       "      <th>stage</th>\n",
       "      <th>benign_sample_diagnosis</th>\n",
       "      <th>plasma_CA19_9</th>\n",
       "      <th>creatinine</th>\n",
       "      <th>LYVE1</th>\n",
       "      <th>REG1B</th>\n",
       "      <th>TFF1</th>\n",
       "      <th>REG1A</th>\n",
       "    </tr>\n",
       "  </thead>\n",
       "  <tbody>\n",
       "    <tr>\n",
       "      <th>0</th>\n",
       "      <td>S1</td>\n",
       "      <td>Cohort1</td>\n",
       "      <td>BPTB</td>\n",
       "      <td>33</td>\n",
       "      <td>F</td>\n",
       "      <td>1</td>\n",
       "      <td>NaN</td>\n",
       "      <td>NaN</td>\n",
       "      <td>11.7</td>\n",
       "      <td>1.83222</td>\n",
       "      <td>0.893219</td>\n",
       "      <td>52.948840</td>\n",
       "      <td>654.282174</td>\n",
       "      <td>1262.000</td>\n",
       "    </tr>\n",
       "    <tr>\n",
       "      <th>1</th>\n",
       "      <td>S10</td>\n",
       "      <td>Cohort1</td>\n",
       "      <td>BPTB</td>\n",
       "      <td>81</td>\n",
       "      <td>F</td>\n",
       "      <td>1</td>\n",
       "      <td>NaN</td>\n",
       "      <td>NaN</td>\n",
       "      <td>NaN</td>\n",
       "      <td>0.97266</td>\n",
       "      <td>2.037585</td>\n",
       "      <td>94.467030</td>\n",
       "      <td>209.488250</td>\n",
       "      <td>228.407</td>\n",
       "    </tr>\n",
       "    <tr>\n",
       "      <th>2</th>\n",
       "      <td>S100</td>\n",
       "      <td>Cohort2</td>\n",
       "      <td>BPTB</td>\n",
       "      <td>51</td>\n",
       "      <td>M</td>\n",
       "      <td>1</td>\n",
       "      <td>NaN</td>\n",
       "      <td>NaN</td>\n",
       "      <td>7.0</td>\n",
       "      <td>0.78039</td>\n",
       "      <td>0.145589</td>\n",
       "      <td>102.366000</td>\n",
       "      <td>461.141000</td>\n",
       "      <td>NaN</td>\n",
       "    </tr>\n",
       "    <tr>\n",
       "      <th>3</th>\n",
       "      <td>S101</td>\n",
       "      <td>Cohort2</td>\n",
       "      <td>BPTB</td>\n",
       "      <td>61</td>\n",
       "      <td>M</td>\n",
       "      <td>1</td>\n",
       "      <td>NaN</td>\n",
       "      <td>NaN</td>\n",
       "      <td>8.0</td>\n",
       "      <td>0.70122</td>\n",
       "      <td>0.002805</td>\n",
       "      <td>60.579000</td>\n",
       "      <td>142.950000</td>\n",
       "      <td>NaN</td>\n",
       "    </tr>\n",
       "    <tr>\n",
       "      <th>4</th>\n",
       "      <td>S102</td>\n",
       "      <td>Cohort2</td>\n",
       "      <td>BPTB</td>\n",
       "      <td>62</td>\n",
       "      <td>M</td>\n",
       "      <td>1</td>\n",
       "      <td>NaN</td>\n",
       "      <td>NaN</td>\n",
       "      <td>9.0</td>\n",
       "      <td>0.21489</td>\n",
       "      <td>0.000860</td>\n",
       "      <td>65.540000</td>\n",
       "      <td>41.088000</td>\n",
       "      <td>NaN</td>\n",
       "    </tr>\n",
       "    <tr>\n",
       "      <th>...</th>\n",
       "      <td>...</td>\n",
       "      <td>...</td>\n",
       "      <td>...</td>\n",
       "      <td>...</td>\n",
       "      <td>...</td>\n",
       "      <td>...</td>\n",
       "      <td>...</td>\n",
       "      <td>...</td>\n",
       "      <td>...</td>\n",
       "      <td>...</td>\n",
       "      <td>...</td>\n",
       "      <td>...</td>\n",
       "      <td>...</td>\n",
       "      <td>...</td>\n",
       "    </tr>\n",
       "    <tr>\n",
       "      <th>585</th>\n",
       "      <td>S549</td>\n",
       "      <td>Cohort2</td>\n",
       "      <td>BPTB</td>\n",
       "      <td>68</td>\n",
       "      <td>M</td>\n",
       "      <td>3</td>\n",
       "      <td>IV</td>\n",
       "      <td>NaN</td>\n",
       "      <td>NaN</td>\n",
       "      <td>0.52026</td>\n",
       "      <td>7.058209</td>\n",
       "      <td>156.241000</td>\n",
       "      <td>525.178000</td>\n",
       "      <td>NaN</td>\n",
       "    </tr>\n",
       "    <tr>\n",
       "      <th>586</th>\n",
       "      <td>S558</td>\n",
       "      <td>Cohort2</td>\n",
       "      <td>BPTB</td>\n",
       "      <td>71</td>\n",
       "      <td>F</td>\n",
       "      <td>3</td>\n",
       "      <td>IV</td>\n",
       "      <td>NaN</td>\n",
       "      <td>NaN</td>\n",
       "      <td>0.85956</td>\n",
       "      <td>8.341207</td>\n",
       "      <td>16.915000</td>\n",
       "      <td>245.947000</td>\n",
       "      <td>NaN</td>\n",
       "    </tr>\n",
       "    <tr>\n",
       "      <th>587</th>\n",
       "      <td>S560</td>\n",
       "      <td>Cohort2</td>\n",
       "      <td>BPTB</td>\n",
       "      <td>63</td>\n",
       "      <td>M</td>\n",
       "      <td>3</td>\n",
       "      <td>IV</td>\n",
       "      <td>NaN</td>\n",
       "      <td>NaN</td>\n",
       "      <td>1.36851</td>\n",
       "      <td>7.674707</td>\n",
       "      <td>289.701000</td>\n",
       "      <td>537.286000</td>\n",
       "      <td>NaN</td>\n",
       "    </tr>\n",
       "    <tr>\n",
       "      <th>588</th>\n",
       "      <td>S583</td>\n",
       "      <td>Cohort2</td>\n",
       "      <td>BPTB</td>\n",
       "      <td>75</td>\n",
       "      <td>F</td>\n",
       "      <td>3</td>\n",
       "      <td>IV</td>\n",
       "      <td>NaN</td>\n",
       "      <td>NaN</td>\n",
       "      <td>1.33458</td>\n",
       "      <td>8.206777</td>\n",
       "      <td>205.930000</td>\n",
       "      <td>722.523000</td>\n",
       "      <td>NaN</td>\n",
       "    </tr>\n",
       "    <tr>\n",
       "      <th>589</th>\n",
       "      <td>S590</td>\n",
       "      <td>Cohort1</td>\n",
       "      <td>BPTB</td>\n",
       "      <td>74</td>\n",
       "      <td>M</td>\n",
       "      <td>3</td>\n",
       "      <td>IV</td>\n",
       "      <td>NaN</td>\n",
       "      <td>1488.0</td>\n",
       "      <td>1.50423</td>\n",
       "      <td>8.200958</td>\n",
       "      <td>411.938275</td>\n",
       "      <td>2021.321078</td>\n",
       "      <td>13200.000</td>\n",
       "    </tr>\n",
       "  </tbody>\n",
       "</table>\n",
       "<p>590 rows × 14 columns</p>\n",
       "</div>"
      ],
      "text/plain": [
       "    sample_id patient_cohort sample_origin  age sex  diagnosis stage  \\\n",
       "0          S1        Cohort1          BPTB   33   F          1   NaN   \n",
       "1         S10        Cohort1          BPTB   81   F          1   NaN   \n",
       "2        S100        Cohort2          BPTB   51   M          1   NaN   \n",
       "3        S101        Cohort2          BPTB   61   M          1   NaN   \n",
       "4        S102        Cohort2          BPTB   62   M          1   NaN   \n",
       "..        ...            ...           ...  ...  ..        ...   ...   \n",
       "585      S549        Cohort2          BPTB   68   M          3    IV   \n",
       "586      S558        Cohort2          BPTB   71   F          3    IV   \n",
       "587      S560        Cohort2          BPTB   63   M          3    IV   \n",
       "588      S583        Cohort2          BPTB   75   F          3    IV   \n",
       "589      S590        Cohort1          BPTB   74   M          3    IV   \n",
       "\n",
       "    benign_sample_diagnosis  plasma_CA19_9  creatinine     LYVE1       REG1B  \\\n",
       "0                       NaN           11.7     1.83222  0.893219   52.948840   \n",
       "1                       NaN            NaN     0.97266  2.037585   94.467030   \n",
       "2                       NaN            7.0     0.78039  0.145589  102.366000   \n",
       "3                       NaN            8.0     0.70122  0.002805   60.579000   \n",
       "4                       NaN            9.0     0.21489  0.000860   65.540000   \n",
       "..                      ...            ...         ...       ...         ...   \n",
       "585                     NaN            NaN     0.52026  7.058209  156.241000   \n",
       "586                     NaN            NaN     0.85956  8.341207   16.915000   \n",
       "587                     NaN            NaN     1.36851  7.674707  289.701000   \n",
       "588                     NaN            NaN     1.33458  8.206777  205.930000   \n",
       "589                     NaN         1488.0     1.50423  8.200958  411.938275   \n",
       "\n",
       "            TFF1      REG1A  \n",
       "0     654.282174   1262.000  \n",
       "1     209.488250    228.407  \n",
       "2     461.141000        NaN  \n",
       "3     142.950000        NaN  \n",
       "4      41.088000        NaN  \n",
       "..           ...        ...  \n",
       "585   525.178000        NaN  \n",
       "586   245.947000        NaN  \n",
       "587   537.286000        NaN  \n",
       "588   722.523000        NaN  \n",
       "589  2021.321078  13200.000  \n",
       "\n",
       "[590 rows x 14 columns]"
      ]
     },
     "execution_count": 4,
     "metadata": {},
     "output_type": "execute_result"
    }
   ],
   "source": [
    "df"
   ]
  },
  {
   "cell_type": "code",
   "execution_count": 5,
   "metadata": {},
   "outputs": [
    {
     "data": {
      "text/plain": [
       "sample_id                   object\n",
       "patient_cohort              object\n",
       "sample_origin               object\n",
       "age                          int64\n",
       "sex                         object\n",
       "diagnosis                    int64\n",
       "stage                       object\n",
       "benign_sample_diagnosis     object\n",
       "plasma_CA19_9              float64\n",
       "creatinine                 float64\n",
       "LYVE1                      float64\n",
       "REG1B                      float64\n",
       "TFF1                       float64\n",
       "REG1A                      float64\n",
       "dtype: object"
      ]
     },
     "execution_count": 5,
     "metadata": {},
     "output_type": "execute_result"
    }
   ],
   "source": [
    "df.dtypes"
   ]
  },
  {
   "cell_type": "code",
   "execution_count": 6,
   "metadata": {},
   "outputs": [
    {
     "data": {
      "text/plain": [
       "sample_id                    0\n",
       "patient_cohort               0\n",
       "sample_origin                0\n",
       "age                          0\n",
       "sex                          0\n",
       "diagnosis                    0\n",
       "stage                      391\n",
       "benign_sample_diagnosis    382\n",
       "plasma_CA19_9              240\n",
       "creatinine                   0\n",
       "LYVE1                        0\n",
       "REG1B                        0\n",
       "TFF1                         0\n",
       "REG1A                      284\n",
       "dtype: int64"
      ]
     },
     "execution_count": 6,
     "metadata": {},
     "output_type": "execute_result"
    }
   ],
   "source": [
    "df.isnull().sum()"
   ]
  },
  {
   "cell_type": "code",
   "execution_count": 7,
   "metadata": {},
   "outputs": [
    {
     "data": {
      "text/plain": [
       "array(['Cohort1', 'Cohort2'], dtype=object)"
      ]
     },
     "execution_count": 7,
     "metadata": {},
     "output_type": "execute_result"
    }
   ],
   "source": [
    "df['patient_cohort'].unique()"
   ]
  },
  {
   "cell_type": "code",
   "execution_count": 8,
   "metadata": {},
   "outputs": [
    {
     "data": {
      "text/plain": [
       "array(['BPTB', 'LIV', 'ESP', 'UCL'], dtype=object)"
      ]
     },
     "execution_count": 8,
     "metadata": {},
     "output_type": "execute_result"
    }
   ],
   "source": [
    "df['sample_origin'].unique()"
   ]
  },
  {
   "cell_type": "code",
   "execution_count": 9,
   "metadata": {},
   "outputs": [
    {
     "data": {
      "text/plain": [
       "array([33, 81, 51, 61, 62, 53, 70, 58, 59, 56, 77, 71, 49, 60, 69, 55, 28,\n",
       "       54, 50, 40, 74, 63, 47, 45, 35, 30, 48, 44, 41, 89, 87, 66, 36, 67,\n",
       "       73, 83, 65, 64, 26, 34, 57, 46, 38, 84, 68, 37, 52, 78, 43, 76, 72,\n",
       "       32, 39, 29, 82, 31, 75, 79, 42, 80, 88, 86, 85], dtype=int64)"
      ]
     },
     "execution_count": 9,
     "metadata": {},
     "output_type": "execute_result"
    }
   ],
   "source": [
    "df['age'].unique()"
   ]
  },
  {
   "cell_type": "code",
   "execution_count": 10,
   "metadata": {},
   "outputs": [
    {
     "data": {
      "text/plain": [
       "array(['F', 'M'], dtype=object)"
      ]
     },
     "execution_count": 10,
     "metadata": {},
     "output_type": "execute_result"
    }
   ],
   "source": [
    "df['sex'].unique()"
   ]
  },
  {
   "cell_type": "code",
   "execution_count": 11,
   "metadata": {},
   "outputs": [
    {
     "data": {
      "text/plain": [
       "array([nan, 'I', 'IA', 'IB', 'II', 'IIA', 'IIB', 'III', 'IV'],\n",
       "      dtype=object)"
      ]
     },
     "execution_count": 11,
     "metadata": {},
     "output_type": "execute_result"
    }
   ],
   "source": [
    "df['stage'].unique()"
   ]
  },
  {
   "cell_type": "code",
   "execution_count": 12,
   "metadata": {},
   "outputs": [],
   "source": [
    "# filling the nan value to 0 stage"
   ]
  },
  {
   "cell_type": "code",
   "execution_count": 13,
   "metadata": {},
   "outputs": [],
   "source": [
    "df['stage']=df['stage'].fillna('0')"
   ]
  },
  {
   "cell_type": "code",
   "execution_count": 14,
   "metadata": {},
   "outputs": [
    {
     "data": {
      "text/plain": [
       "array([1, 2, 3], dtype=int64)"
      ]
     },
     "execution_count": 14,
     "metadata": {},
     "output_type": "execute_result"
    }
   ],
   "source": [
    "df['diagnosis'].unique()"
   ]
  },
  {
   "cell_type": "code",
   "execution_count": 15,
   "metadata": {},
   "outputs": [],
   "source": [
    "# Filling the nan to null"
   ]
  },
  {
   "cell_type": "code",
   "execution_count": 16,
   "metadata": {},
   "outputs": [
    {
     "data": {
      "text/plain": [
       "array([nan, 'Abdominal Pain ', 'Biliary Stricture (Secondary to Stent) ',\n",
       "       'Cholecystitis', 'Cholecystitis ', 'Cholecystitis (Chronic) ',\n",
       "       'Cholecystitis (Chronic) Cholelithiasis',\n",
       "       'Cholecystitis (Chronic) Cholesterolsis', 'Choledochal Cyst ',\n",
       "       'Choledocholiathiasis', 'Choledocholiathiasis ',\n",
       "       'Cholelithiasis with adenomyomatous hyperplasia ',\n",
       "       'Duodenal Stricture', 'Duodenitis', 'Gallbladder polyps ',\n",
       "       'Gallbladder Porcelain', 'Gallstones', 'Gallstones ',\n",
       "       'Gallstones - Incidental ', 'Gastritis ', 'Gastritis and Reflux ',\n",
       "       'Ill defined lesion in uncinate process',\n",
       "       'Ischaemic Common Bile Duct Stricture',\n",
       "       'Pancreatitis (Pseudocyst)', 'Pancreatitis', 'Pancreatitis ',\n",
       "       'Pancreatitis (Abscess)', 'Pancreatitis (Acute)',\n",
       "       'Pancreatitis (Alcohol-Chronic-Pseuodcyst)',\n",
       "       'Pancreatitis (Alcohol-Chronic)', 'Pancreatitis (Alcohol)',\n",
       "       'Pancreatitis (Autoimmune) ', 'Pancreatitis (Chronic-Pseudocyst) ',\n",
       "       'Pancreatitis (Chronic) ',\n",
       "       'Pancreatitis (Chronic) (Later became PDAC)',\n",
       "       'Pancreatitis (Chronic) Choledocholithiasis',\n",
       "       'Pancreatitis (Gallstone-Alcohol-Pseudocyst)',\n",
       "       'Pancreatitis (Gallstone-Pseudocyst)', 'Pancreatitis (Gallstone) ',\n",
       "       'Pancreatitis (Hereditary-Chronic) ',\n",
       "       'Pancreatitis (Hypertriglyceridemia)', 'Pancreatitis (Idiopathic)',\n",
       "       'Pancreatitis (Idiopathic) ',\n",
       "       'Pancreato-jejunostomy Anastomoses Stricture',\n",
       "       'Premalignant lesions-Adenoma-NOS',\n",
       "       'Premalignant lesions-Mucinous cystadenocarcinoma-noninvasive',\n",
       "       'Premalignant lesions-Mucinous cystadenoma-NOS',\n",
       "       'Premalignant lesions-Tubular adenoma-NOS',\n",
       "       'Premalignant lesions-Tubulovillous adenoma-NOS',\n",
       "       'Premalignant lesions-Villous adenoma-NOS',\n",
       "       'Serous cystadenoma - NOS', 'Serous microcystic adenoma',\n",
       "       'Simple benign liver cyst'], dtype=object)"
      ]
     },
     "execution_count": 16,
     "metadata": {},
     "output_type": "execute_result"
    }
   ],
   "source": [
    "df['benign_sample_diagnosis'].unique()"
   ]
  },
  {
   "cell_type": "code",
   "execution_count": 17,
   "metadata": {},
   "outputs": [],
   "source": [
    "df['benign_sample_diagnosis']=df['benign_sample_diagnosis'].fillna(\"null\")\n"
   ]
  },
  {
   "cell_type": "code",
   "execution_count": 18,
   "metadata": {},
   "outputs": [
    {
     "data": {
      "text/plain": [
       "array([1.1700000e+01,           nan, 7.0000000e+00, 8.0000000e+00,\n",
       "       9.0000000e+00, 1.1000000e+01, 2.4000000e+01, 2.3000000e+01,\n",
       "       1.2000000e+01, 2.8000000e+01, 4.7000000e+01, 1.7000000e+01,\n",
       "       8.7000000e+00, 9.6000000e+00, 4.0000000e+00, 1.0800000e+01,\n",
       "       5.6475920e-02, 4.0602580e+00, 9.0857800e-01, 3.3893040e+00,\n",
       "       5.1282340e+00, 1.1359264e+00, 1.9389494e+00, 2.0590780e+00,\n",
       "       5.1610920e-01, 1.8477128e+00, 2.1163800e+00, 2.5580040e+00,\n",
       "       6.2750960e+00, 2.3708060e+00, 5.5172020e+00, 1.1303358e+00,\n",
       "       6.2230820e+00, 9.1603200e-01, 7.4990400e-01, 1.0800212e+00,\n",
       "       1.9369218e+00, 2.5244100e+00, 2.5321640e+00, 4.5713380e-01,\n",
       "       3.5273440e+00, 8.1353880e-01, 5.1564960e-02, 8.3031040e-01,\n",
       "       7.1409760e-01, 6.1590640e+00, 0.0000000e+00, 5.1400280e-01,\n",
       "       2.5385020e+01, 1.9835538e+00, 7.3094760e-01, 6.4880360e-01,\n",
       "       5.0252720e+00, 1.2861902e+00, 3.9514600e+00, 8.0235780e-01,\n",
       "       5.1519940e+00, 1.1787872e+00, 1.3996204e-01, 1.2029986e+00,\n",
       "       4.7449340e+00, 6.9400000e+00, 8.4700000e+00, 1.3580000e+01,\n",
       "       7.8600000e+00, 3.5300000e+00, 6.5800000e+00, 5.8000000e+00,\n",
       "       3.5900000e+00, 7.5500000e+00, 5.7000000e+00, 3.7030000e+01,\n",
       "       1.2840000e+01, 6.7700000e+00, 1.0430000e+01, 7.5700000e+00,\n",
       "       3.1240000e+01, 2.8180000e+01, 1.8230000e+01, 8.4300000e+01,\n",
       "       6.0000000e-01, 1.6400000e+01, 3.4000000e+01, 3.0000000e+00,\n",
       "       1.3000000e+01, 4.9000000e+01, 3.1620000e+01, 2.6000000e+01,\n",
       "       5.0000000e+00, 2.9000000e+01, 1.5000000e+01, 1.4000000e+01,\n",
       "       2.3170000e+01, 6.8720000e+01, 6.0000000e+00, 4.2000000e+01,\n",
       "       2.5000000e+01, 3.7000000e+01, 1.9000000e+01, 1.8000000e+01,\n",
       "       3.2300000e+02, 2.0000000e+00, 7.3000000e+01, 1.0000000e+01,\n",
       "       2.2000000e+01, 5.0000000e+01, 1.5410000e+03, 3.5000000e+01,\n",
       "       2.6300000e+02, 1.9130000e+03, 1.0000000e+00, 7.2000000e+01,\n",
       "       3.2000000e+01, 8.6000000e+01, 2.1000000e+01, 6.4000000e+01,\n",
       "       1.0700000e+02, 2.0000000e+01, 1.1040000e+01, 1.1480000e+02,\n",
       "       1.1600000e+02, 4.6100000e+01, 1.2800000e+01, 3.0000000e+01,\n",
       "       1.1200000e+02, 1.5200000e+01, 1.0900000e+01, 6.9000000e+00,\n",
       "       6.8000000e+00, 1.9070000e+02, 4.1000000e+01, 7.9000000e+00,\n",
       "       3.2300000e+01, 1.6000000e+01, 1.6200000e+01, 6.7100000e+00,\n",
       "       5.2000000e+01, 2.7000000e+01, 3.9000000e+01, 3.2360000e+03,\n",
       "       2.5500000e+02, 5.5600000e+01, 5.3350000e+03, 1.4700000e+02,\n",
       "       1.6240000e+03, 2.7900000e+02, 3.0900000e+02, 1.9720000e+03,\n",
       "       1.0040000e+03, 3.2800000e+02, 3.5400000e+02, 4.9200000e+02,\n",
       "       5.3800000e+02, 1.0980000e+03, 3.1000000e+04, 6.0100000e+02,\n",
       "       5.5400000e+02, 3.3000000e+01, 1.5500000e+02, 6.6000000e+01,\n",
       "       1.3800000e+02, 4.7600000e+02, 6.8000000e+01, 1.4300000e+02,\n",
       "       9.4100000e+02, 7.4000000e+01, 9.1000000e+01, 6.0000000e+02,\n",
       "       1.5100000e+03, 1.4650000e+03, 1.5030000e+03, 1.1000000e+02,\n",
       "       2.3100000e+02, 1.0000000e+02, 1.8200000e+02, 3.4500000e+02,\n",
       "       1.8060000e+03, 1.3400000e+02, 6.2000000e+01, 1.6360000e+03,\n",
       "       1.4750000e+03, 2.8500000e+02, 3.1800000e+02, 2.7500000e+02,\n",
       "       4.1150000e+03, 7.3700000e+02, 4.5700000e+02, 2.4880000e+02,\n",
       "       3.6270000e+01, 1.6750000e+02, 5.2300000e+02, 1.5800000e+02,\n",
       "       1.9800000e+02, 2.5900000e+02, 1.7490000e+03, 4.3400000e+02,\n",
       "       5.2360000e+03, 7.4400000e+02, 2.2030000e+03, 2.4780000e+03,\n",
       "       1.1740000e+04, 9.3600000e+02, 5.0900000e+02, 5.3700000e+02,\n",
       "       1.8100000e+02, 2.1600000e+02, 6.5500000e+02, 1.6210000e+03,\n",
       "       8.5900000e+02, 2.4400000e+02, 1.4710000e+03, 8.6340000e+03,\n",
       "       5.5600000e+02, 2.9500000e+02, 1.0750000e+03, 1.0300000e+02,\n",
       "       2.9100000e+02, 6.0000000e+01, 1.1200000e+03, 8.9780000e+03,\n",
       "       7.5500000e+02, 1.9900000e+03, 1.2900000e+02, 9.2500000e+03,\n",
       "       4.3000000e+01, 5.5300000e+02, 1.2000000e+02, 2.9900000e+02,\n",
       "       2.1140000e+03, 1.4350000e+03, 5.5100000e+02, 2.4540000e+03,\n",
       "       3.4350000e+03, 3.9900000e+02, 9.4360000e+03, 5.8550000e+03,\n",
       "       6.4100000e+02, 3.9850000e+03, 6.9750000e+01, 7.8320000e+02,\n",
       "       6.4480000e+02, 1.3180000e+03, 3.0400000e+00, 3.0590000e+02,\n",
       "       1.6920000e+01, 1.4850000e+03, 1.4770000e+02, 2.4840000e+03,\n",
       "       1.5550000e+03, 4.2200000e+02, 2.2040000e+03, 5.7000000e+01,\n",
       "       8.8500000e+02, 4.6830000e+02, 1.8360000e+04, 4.3300000e+02,\n",
       "       1.4670000e+01, 2.2020000e+03, 1.9160000e+03, 6.3300000e+02,\n",
       "       8.4000000e+01, 1.9160000e+01, 9.9600000e+01, 2.7170000e+02,\n",
       "       7.1080000e+02, 1.3740000e+04, 1.4880000e+03])"
      ]
     },
     "execution_count": 18,
     "metadata": {},
     "output_type": "execute_result"
    }
   ],
   "source": [
    "df['plasma_CA19_9'].unique()"
   ]
  },
  {
   "cell_type": "code",
   "execution_count": 19,
   "metadata": {},
   "outputs": [],
   "source": [
    "df['plasma_CA19_9']=df['plasma_CA19_9'].fillna(df['plasma_CA19_9'].mean())\n"
   ]
  },
  {
   "cell_type": "code",
   "execution_count": 20,
   "metadata": {},
   "outputs": [
    {
     "data": {
      "text/plain": [
       "array([1.262000e+03, 2.284070e+02,          nan, 5.055710e+02,\n",
       "       3.810000e+02, 1.130000e+02, 1.370000e+02, 1.115310e+02,\n",
       "       9.030000e+02, 1.490000e+02, 7.360000e+02, 5.630000e+02,\n",
       "       6.240000e+02, 5.700000e+02, 1.169980e+02, 1.031840e+02,\n",
       "       1.082980e+02, 3.587940e+02, 6.756230e+02, 1.760000e+02,\n",
       "       8.677500e+01, 6.477900e+01, 1.326040e+02, 8.382900e+01,\n",
       "       5.075930e+02, 2.603990e+02, 4.233600e+01, 0.000000e+00,\n",
       "       1.361600e+01, 3.532470e+02, 4.933940e+02, 6.591200e+01,\n",
       "       6.482100e+01, 8.161000e+01, 2.718400e+01, 1.461200e+01,\n",
       "       2.382620e+02, 1.005800e+02, 2.934500e+01, 2.175880e+02,\n",
       "       2.120400e+01, 2.734900e+01, 3.109480e+02, 8.412300e+01,\n",
       "       2.246560e+02, 1.689800e+01, 4.091980e+02, 2.929260e+02,\n",
       "       9.272700e+01, 4.088700e+01, 4.546000e+01, 1.451980e+02,\n",
       "       1.731620e+02, 8.177320e+02, 2.782880e+02, 5.547900e+01,\n",
       "       3.453230e+02, 8.038600e+01, 3.410500e+01, 7.602400e+01,\n",
       "       5.952800e+01, 8.036700e+01, 3.486900e+01, 8.277500e+01,\n",
       "       1.690710e+02, 1.259770e+02, 1.948510e+02, 3.685400e+01,\n",
       "       1.617142e+03, 1.147980e+02, 7.447400e+01, 4.154300e+01,\n",
       "       6.500000e+02, 1.100000e+02, 1.580630e+02, 1.137810e+02,\n",
       "       1.305153e+03, 2.488310e+02, 9.330500e+02, 2.428900e+01,\n",
       "       3.803100e+01, 4.599200e+01, 3.205800e+01, 4.075400e+02,\n",
       "       1.861720e+03, 2.895700e+01, 2.146648e+03, 4.698000e+01,\n",
       "       2.193900e+01, 9.626500e+01, 1.271740e+02, 1.212220e+02,\n",
       "       3.288170e+02, 7.922300e+01, 6.293190e+02, 9.352900e+01,\n",
       "       6.786700e+01, 7.646800e+01, 6.370400e+01, 4.314090e+02,\n",
       "       5.191320e+02, 7.509400e+01, 5.000700e+01, 7.395680e+02,\n",
       "       1.222190e+02, 7.294700e+01, 2.433200e+02, 8.872300e+01,\n",
       "       1.227190e+02, 8.806100e+01, 6.849670e+02, 9.573900e+01,\n",
       "       1.275620e+02, 1.319640e+02, 8.828200e+01, 1.744000e+01,\n",
       "       8.894300e+01, 1.465326e+03, 1.241930e+02, 4.781270e+02,\n",
       "       1.622900e+01, 2.214380e+02, 1.939000e+03, 2.209500e+03,\n",
       "       4.527500e+01, 8.083492e+03, 1.414400e+02, 1.962510e+02,\n",
       "       3.877000e+01, 3.892860e+02, 5.471593e+03, 5.410000e+02,\n",
       "       3.340000e+02, 4.033360e+02, 1.618450e+02, 1.755500e+02,\n",
       "       2.959300e+02, 2.056480e+02, 1.777960e+02, 1.280050e+02,\n",
       "       8.475300e+01, 2.482100e+01, 1.878900e+02, 6.608700e+01,\n",
       "       1.056840e+02, 8.989060e+02, 3.658900e+01, 8.678300e+01,\n",
       "       2.229400e+01, 3.239630e+02, 1.934000e+01, 8.105000e+00,\n",
       "       6.338700e+01, 2.366850e+02, 1.961000e+01, 1.150648e+03,\n",
       "       4.211000e+03, 7.740000e+02, 3.289000e+03, 2.640700e+01,\n",
       "       1.552700e+02, 2.101850e+02, 4.329170e+02, 9.820000e+01,\n",
       "       3.991100e+01, 1.186000e+03, 7.301558e+03, 1.428173e+03,\n",
       "       4.066138e+03, 2.112952e+03, 1.109820e+02, 1.130348e+03,\n",
       "       1.389000e+02, 1.391000e+02, 3.840860e+02, 2.773700e+01,\n",
       "       4.629750e+02, 7.942300e+01, 8.769010e+02, 2.488000e+03,\n",
       "       5.767800e+01, 4.693620e+02, 5.729310e+02, 2.891127e+03,\n",
       "       2.539620e+02, 2.837900e+01, 4.868600e+01, 3.243800e+02,\n",
       "       3.136570e+02, 8.969800e+01, 3.305500e+02, 1.188853e+03,\n",
       "       7.096640e+02, 1.138189e+03, 1.457906e+03, 7.853500e+01,\n",
       "       1.637910e+02, 5.662460e+02, 4.940800e+02, 2.113577e+03,\n",
       "       2.220600e+02, 3.688080e+02, 7.573800e+01, 5.407500e+01,\n",
       "       4.765540e+02, 2.137891e+03, 2.534200e+02, 4.470510e+02,\n",
       "       7.935920e+02, 1.132737e+03, 5.492200e+01, 1.410928e+03,\n",
       "       7.732800e+01, 1.315320e+03, 1.882060e+02, 3.340690e+02,\n",
       "       8.825040e+02, 2.255048e+03, 2.983710e+02, 2.024821e+03,\n",
       "       1.185440e+02, 1.310506e+03, 3.782530e+02, 1.110000e+02,\n",
       "       2.581000e+03, 3.130000e+02, 3.978000e+03, 6.930000e+02,\n",
       "       5.735080e+02, 5.748000e+01, 2.068920e+02, 3.761625e+03,\n",
       "       8.265100e+01, 5.812400e+01, 4.640540e+02, 1.071520e+02,\n",
       "       2.398460e+02, 3.043500e+01, 2.453850e+02, 1.626674e+03,\n",
       "       1.232933e+03, 1.717850e+02, 7.798900e+01, 3.872640e+02,\n",
       "       1.391330e+02, 1.784470e+03, 2.701220e+02, 2.173867e+03,\n",
       "       1.646490e+03, 3.088108e+03, 2.050460e+02, 5.619000e+01,\n",
       "       1.125230e+02, 4.351160e+02, 2.904800e+02, 3.783640e+02,\n",
       "       2.016320e+02, 1.189970e+02, 5.218510e+02, 3.658172e+03,\n",
       "       3.722640e+02, 1.598830e+02, 2.115330e+02, 4.857790e+02,\n",
       "       8.212280e+02, 1.167150e+02, 8.400000e+03, 1.528949e+03,\n",
       "       9.679800e+01, 1.036464e+03, 2.016660e+03, 3.390710e+02,\n",
       "       1.841226e+03, 2.384110e+02, 8.823870e+02, 2.007324e+03,\n",
       "       5.770800e+01, 1.723524e+03, 2.529000e+03, 3.303000e+03,\n",
       "       1.690000e+02, 8.731000e+03, 5.000000e+03, 1.612000e+03,\n",
       "       1.926084e+03, 3.890950e+02, 6.243450e+02, 1.916300e+01,\n",
       "       1.788392e+03, 3.693440e+02, 1.435350e+02, 7.193940e+02,\n",
       "       6.105800e+01, 5.456110e+02, 1.907650e+02, 6.460000e+02,\n",
       "       7.879000e+03, 2.331500e+03, 1.320000e+04])"
      ]
     },
     "execution_count": 20,
     "metadata": {},
     "output_type": "execute_result"
    }
   ],
   "source": [
    "df['REG1A'].unique()"
   ]
  },
  {
   "cell_type": "code",
   "execution_count": 21,
   "metadata": {},
   "outputs": [],
   "source": [
    "df['REG1A']=df['REG1A'].fillna(df['REG1A'].mean())\n"
   ]
  },
  {
   "cell_type": "code",
   "execution_count": 22,
   "metadata": {},
   "outputs": [],
   "source": [
    "df.to_csv('clear_data.csv', encoding='utf-8')"
   ]
  },
  {
   "cell_type": "code",
   "execution_count": 23,
   "metadata": {},
   "outputs": [
    {
     "name": "stdout",
     "output_type": "stream",
     "text": [
      "<class 'pandas.core.frame.DataFrame'>\n",
      "RangeIndex: 590 entries, 0 to 589\n",
      "Data columns (total 14 columns):\n",
      " #   Column                   Non-Null Count  Dtype  \n",
      "---  ------                   --------------  -----  \n",
      " 0   sample_id                590 non-null    object \n",
      " 1   patient_cohort           590 non-null    object \n",
      " 2   sample_origin            590 non-null    object \n",
      " 3   age                      590 non-null    int64  \n",
      " 4   sex                      590 non-null    object \n",
      " 5   diagnosis                590 non-null    int64  \n",
      " 6   stage                    590 non-null    object \n",
      " 7   benign_sample_diagnosis  590 non-null    object \n",
      " 8   plasma_CA19_9            590 non-null    float64\n",
      " 9   creatinine               590 non-null    float64\n",
      " 10  LYVE1                    590 non-null    float64\n",
      " 11  REG1B                    590 non-null    float64\n",
      " 12  TFF1                     590 non-null    float64\n",
      " 13  REG1A                    590 non-null    float64\n",
      "dtypes: float64(6), int64(2), object(6)\n",
      "memory usage: 64.7+ KB\n"
     ]
    }
   ],
   "source": [
    "df.info()"
   ]
  },
  {
   "cell_type": "code",
   "execution_count": 24,
   "metadata": {},
   "outputs": [],
   "source": []
  },
  {
   "cell_type": "code",
   "execution_count": 25,
   "metadata": {},
   "outputs": [
    {
     "data": {
      "text/plain": [
       "sample_id                   object\n",
       "patient_cohort              object\n",
       "sample_origin               object\n",
       "age                          int64\n",
       "sex                         object\n",
       "diagnosis                    int64\n",
       "stage                       object\n",
       "benign_sample_diagnosis     object\n",
       "plasma_CA19_9              float64\n",
       "creatinine                 float64\n",
       "LYVE1                      float64\n",
       "REG1B                      float64\n",
       "TFF1                       float64\n",
       "REG1A                      float64\n",
       "dtype: object"
      ]
     },
     "execution_count": 25,
     "metadata": {},
     "output_type": "execute_result"
    }
   ],
   "source": [
    "df.dtypes"
   ]
  },
  {
   "cell_type": "code",
   "execution_count": 26,
   "metadata": {},
   "outputs": [],
   "source": [
    "plt.rcParams[\"figure.figsize\"] = (30,10)"
   ]
  },
  {
   "cell_type": "code",
   "execution_count": 27,
   "metadata": {},
   "outputs": [
    {
     "name": "stderr",
     "output_type": "stream",
     "text": [
      "C:\\Users\\N Vishnu\\AppData\\Local\\Temp\\ipykernel_4472\\3886910260.py:1: MatplotlibDeprecationWarning: The seaborn styles shipped by Matplotlib are deprecated since 3.6, as they no longer correspond to the styles shipped by seaborn. However, they will remain available as 'seaborn-v0_8-<style>'. Alternatively, directly use the seaborn API instead.\n",
      "  plt.style.use('seaborn')\n"
     ]
    },
    {
     "data": {
      "text/plain": [
       "<Axes: >"
      ]
     },
     "execution_count": 27,
     "metadata": {},
     "output_type": "execute_result"
    },
    {
     "data": {
      "image/png": "[encoded data removed]",
      "text/plain": [
       "<Figure size 800x550 with 1 Axes>"
      ]
     },
     "metadata": {},
     "output_type": "display_data"
    }
   ],
   "source": [
    "plt.style.use('seaborn')\n",
    "df['patient_cohort'].hist(bins=20)   "
   ]
  },
  {
   "cell_type": "code",
   "execution_count": 28,
   "metadata": {},
   "outputs": [
    {
     "name": "stderr",
     "output_type": "stream",
     "text": [
      "C:\\Users\\N Vishnu\\AppData\\Local\\Temp\\ipykernel_4472\\1780198353.py:1: MatplotlibDeprecationWarning: The seaborn styles shipped by Matplotlib are deprecated since 3.6, as they no longer correspond to the styles shipped by seaborn. However, they will remain available as 'seaborn-v0_8-<style>'. Alternatively, directly use the seaborn API instead.\n",
      "  plt.style.use('seaborn')\n"
     ]
    },
    {
     "data": {
      "text/plain": [
       "<Axes: >"
      ]
     },
     "execution_count": 28,
     "metadata": {},
     "output_type": "execute_result"
    },
    {
     "data": {
      "image/png": "[encoded data removed]",
      "text/plain": [
       "<Figure size 800x550 with 1 Axes>"
      ]
     },
     "metadata": {},
     "output_type": "display_data"
    }
   ],
   "source": [
    "plt.style.use('seaborn')\n",
    "df['sample_origin'].hist(bins=20)      "
   ]
  },
  {
   "cell_type": "code",
   "execution_count": 29,
   "metadata": {},
   "outputs": [
    {
     "name": "stderr",
     "output_type": "stream",
     "text": [
      "C:\\Users\\N Vishnu\\AppData\\Local\\Temp\\ipykernel_4472\\1602363197.py:1: MatplotlibDeprecationWarning: The seaborn styles shipped by Matplotlib are deprecated since 3.6, as they no longer correspond to the styles shipped by seaborn. However, they will remain available as 'seaborn-v0_8-<style>'. Alternatively, directly use the seaborn API instead.\n",
      "  plt.style.use('seaborn')\n"
     ]
    },
    {
     "data": {
      "text/plain": [
       "<Axes: >"
      ]
     },
     "execution_count": 29,
     "metadata": {},
     "output_type": "execute_result"
    },
    {
     "data": {
      "image/png": "[encoded data removed]",
      "text/plain": [
       "<Figure size 800x550 with 1 Axes>"
      ]
     },
     "metadata": {},
     "output_type": "display_data"
    }
   ],
   "source": [
    "plt.style.use('seaborn')\n",
    "df['sex'].hist(bins=20) "
   ]
  },
  {
   "cell_type": "code",
   "execution_count": 30,
   "metadata": {},
   "outputs": [
    {
     "name": "stderr",
     "output_type": "stream",
     "text": [
      "C:\\Users\\N Vishnu\\AppData\\Local\\Temp\\ipykernel_4472\\852501167.py:1: MatplotlibDeprecationWarning: The seaborn styles shipped by Matplotlib are deprecated since 3.6, as they no longer correspond to the styles shipped by seaborn. However, they will remain available as 'seaborn-v0_8-<style>'. Alternatively, directly use the seaborn API instead.\n",
      "  plt.style.use('seaborn')\n"
     ]
    },
    {
     "data": {
      "text/plain": [
       "<Axes: >"
      ]
     },
     "execution_count": 30,
     "metadata": {},
     "output_type": "execute_result"
    },
    {
     "data": {
      "image/png": "[encoded data removed]",
      "text/plain": [
       "<Figure size 800x550 with 1 Axes>"
      ]
     },
     "metadata": {},
     "output_type": "display_data"
    }
   ],
   "source": [
    "plt.style.use('seaborn')\n",
    "df['diagnosis'].hist(bins=20) "
   ]
  },
  {
   "cell_type": "code",
   "execution_count": 31,
   "metadata": {},
   "outputs": [
    {
     "name": "stdout",
     "output_type": "stream",
     "text": [
      "<class 'pandas.core.frame.DataFrame'>\n",
      "RangeIndex: 590 entries, 0 to 589\n",
      "Data columns (total 14 columns):\n",
      " #   Column                   Non-Null Count  Dtype  \n",
      "---  ------                   --------------  -----  \n",
      " 0   sample_id                590 non-null    object \n",
      " 1   patient_cohort           590 non-null    object \n",
      " 2   sample_origin            590 non-null    object \n",
      " 3   age                      590 non-null    int64  \n",
      " 4   sex                      590 non-null    object \n",
      " 5   diagnosis                590 non-null    int64  \n",
      " 6   stage                    590 non-null    object \n",
      " 7   benign_sample_diagnosis  590 non-null    object \n",
      " 8   plasma_CA19_9            590 non-null    float64\n",
      " 9   creatinine               590 non-null    float64\n",
      " 10  LYVE1                    590 non-null    float64\n",
      " 11  REG1B                    590 non-null    float64\n",
      " 12  TFF1                     590 non-null    float64\n",
      " 13  REG1A                    590 non-null    float64\n",
      "dtypes: float64(6), int64(2), object(6)\n",
      "memory usage: 64.7+ KB\n"
     ]
    }
   ],
   "source": [
    "df.info()"
   ]
  },
  {
   "cell_type": "code",
   "execution_count": 32,
   "metadata": {},
   "outputs": [],
   "source": [
    " "
   ]
  },
  {
   "cell_type": "code",
   "execution_count": 33,
   "metadata": {},
   "outputs": [
    {
     "name": "stderr",
     "output_type": "stream",
     "text": [
      "C:\\Users\\N Vishnu\\AppData\\Local\\Temp\\ipykernel_4472\\563527634.py:1: UserWarning: \n",
      "\n",
      "`distplot` is a deprecated function and will be removed in seaborn v0.14.0.\n",
      "\n",
      "Please adapt your code to use either `displot` (a figure-level function with\n",
      "similar flexibility) or `histplot` (an axes-level function for histograms).\n",
      "\n",
      "For a guide to updating your code to use the new functions, please see\n",
      "https://gist.github.com/mwaskom/de44147ed2974457ad6372750bbe5751\n",
      "\n",
      "  sns.distplot(df[\"plasma_CA19_9\"])\n"
     ]
    },
    {
     "data": {
      "text/plain": [
       "10.393222726618406"
      ]
     },
     "execution_count": 33,
     "metadata": {},
     "output_type": "execute_result"
    },
    {
     "data": {
      "image/png": "[encoded data removed]",
      "text/plain": [
       "<Figure size 800x550 with 1 Axes>"
      ]
     },
     "metadata": {},
     "output_type": "display_data"
    }
   ],
   "source": [
    "sns.distplot(df[\"plasma_CA19_9\"])\n",
    "df['plasma_CA19_9'].skew()"
   ]
  },
  {
   "cell_type": "code",
   "execution_count": 34,
   "metadata": {},
   "outputs": [
    {
     "name": "stderr",
     "output_type": "stream",
     "text": [
      "C:\\Users\\N Vishnu\\AppData\\Local\\Temp\\ipykernel_4472\\2246222518.py:1: UserWarning: \n",
      "\n",
      "`distplot` is a deprecated function and will be removed in seaborn v0.14.0.\n",
      "\n",
      "Please adapt your code to use either `displot` (a figure-level function with\n",
      "similar flexibility) or `histplot` (an axes-level function for histograms).\n",
      "\n",
      "For a guide to updating your code to use the new functions, please see\n",
      "https://gist.github.com/mwaskom/de44147ed2974457ad6372750bbe5751\n",
      "\n",
      "  sns.distplot(df[\"creatinine\"])\n"
     ]
    },
    {
     "data": {
      "text/plain": [
       "1.466413272635916"
      ]
     },
     "execution_count": 34,
     "metadata": {},
     "output_type": "execute_result"
    },
    {
     "data": {
      "image/png": "[encoded data removed]",
      "text/plain": [
       "<Figure size 800x550 with 1 Axes>"
      ]
     },
     "metadata": {},
     "output_type": "display_data"
    }
   ],
   "source": [
    "sns.distplot(df[\"creatinine\"])\n",
    "df['creatinine'].skew()"
   ]
  },
  {
   "cell_type": "code",
   "execution_count": 35,
   "metadata": {},
   "outputs": [
    {
     "name": "stderr",
     "output_type": "stream",
     "text": [
      "C:\\Users\\N Vishnu\\AppData\\Local\\Temp\\ipykernel_4472\\1392056697.py:1: UserWarning: \n",
      "\n",
      "`distplot` is a deprecated function and will be removed in seaborn v0.14.0.\n",
      "\n",
      "Please adapt your code to use either `displot` (a figure-level function with\n",
      "similar flexibility) or `histplot` (an axes-level function for histograms).\n",
      "\n",
      "For a guide to updating your code to use the new functions, please see\n",
      "https://gist.github.com/mwaskom/de44147ed2974457ad6372750bbe5751\n",
      "\n",
      "  sns.distplot(df[\"LYVE1\"])\n"
     ]
    },
    {
     "data": {
      "text/plain": [
       "1.3940135860658638"
      ]
     },
     "execution_count": 35,
     "metadata": {},
     "output_type": "execute_result"
    },
    {
     "data": {
      "image/png": "[encoded data removed]",
      "text/plain": [
       "<Figure size 800x550 with 1 Axes>"
      ]
     },
     "metadata": {},
     "output_type": "display_data"
    }
   ],
   "source": [
    "sns.distplot(df[\"LYVE1\"])\n",
    "df['LYVE1'].skew()"
   ]
  },
  {
   "cell_type": "code",
   "execution_count": 36,
   "metadata": {},
   "outputs": [
    {
     "name": "stderr",
     "output_type": "stream",
     "text": [
      "C:\\Users\\N Vishnu\\AppData\\Local\\Temp\\ipykernel_4472\\2320186568.py:1: UserWarning: \n",
      "\n",
      "`distplot` is a deprecated function and will be removed in seaborn v0.14.0.\n",
      "\n",
      "Please adapt your code to use either `displot` (a figure-level function with\n",
      "similar flexibility) or `histplot` (an axes-level function for histograms).\n",
      "\n",
      "For a guide to updating your code to use the new functions, please see\n",
      "https://gist.github.com/mwaskom/de44147ed2974457ad6372750bbe5751\n",
      "\n",
      "  sns.distplot(df[\"REG1B\"])\n"
     ]
    },
    {
     "data": {
      "text/plain": [
       "3.333925466203941"
      ]
     },
     "execution_count": 36,
     "metadata": {},
     "output_type": "execute_result"
    },
    {
     "data": {
      "image/png": "[encoded data removed]",
      "text/plain": [
       "<Figure size 800x550 with 1 Axes>"
      ]
     },
     "metadata": {},
     "output_type": "display_data"
    }
   ],
   "source": [
    "sns.distplot(df[\"REG1B\"])\n",
    "df['REG1B'].skew()"
   ]
  },
  {
   "cell_type": "code",
   "execution_count": 37,
   "metadata": {
    "scrolled": false
   },
   "outputs": [
    {
     "name": "stderr",
     "output_type": "stream",
     "text": [
      "C:\\Users\\N Vishnu\\AppData\\Local\\Temp\\ipykernel_4472\\3197720009.py:1: UserWarning: \n",
      "\n",
      "`distplot` is a deprecated function and will be removed in seaborn v0.14.0.\n",
      "\n",
      "Please adapt your code to use either `displot` (a figure-level function with\n",
      "similar flexibility) or `histplot` (an axes-level function for histograms).\n",
      "\n",
      "For a guide to updating your code to use the new functions, please see\n",
      "https://gist.github.com/mwaskom/de44147ed2974457ad6372750bbe5751\n",
      "\n",
      "  sns.distplot(df[\"REG1A\"])\n"
     ]
    },
    {
     "data": {
      "text/plain": [
       "6.1909443916690785"
      ]
     },
     "execution_count": 37,
     "metadata": {},
     "output_type": "execute_result"
    },
    {
     "data": {
      "image/png": "[encoded data removed]",
      "text/plain": [
       "<Figure size 800x550 with 1 Axes>"
      ]
     },
     "metadata": {},
     "output_type": "display_data"
    }
   ],
   "source": [
    "sns.distplot(df[\"REG1A\"])\n",
    "df['REG1A'].skew()"
   ]
  },
  {
   "cell_type": "code",
   "execution_count": 38,
   "metadata": {},
   "outputs": [
    {
     "data": {
      "text/plain": [
       "sample_id                   object\n",
       "patient_cohort              object\n",
       "sample_origin               object\n",
       "age                          int64\n",
       "sex                         object\n",
       "diagnosis                    int64\n",
       "stage                       object\n",
       "benign_sample_diagnosis     object\n",
       "plasma_CA19_9              float64\n",
       "creatinine                 float64\n",
       "LYVE1                      float64\n",
       "REG1B                      float64\n",
       "TFF1                       float64\n",
       "REG1A                      float64\n",
       "dtype: object"
      ]
     },
     "execution_count": 38,
     "metadata": {},
     "output_type": "execute_result"
    }
   ],
   "source": [
    "df.dtypes"
   ]
  },
  {
   "cell_type": "code",
   "execution_count": 39,
   "metadata": {},
   "outputs": [
    {
     "data": {
      "text/plain": [
       "array(['Cohort1', 'Cohort2'], dtype=object)"
      ]
     },
     "execution_count": 39,
     "metadata": {},
     "output_type": "execute_result"
    }
   ],
   "source": [
    "df['patient_cohort'].unique()"
   ]
  },
  {
   "cell_type": "code",
   "execution_count": 40,
   "metadata": {},
   "outputs": [],
   "source": [
    "df.loc[df['patient_cohort']=='Cohort1','patient_cohort'] = 0\n",
    "df.loc[df['patient_cohort']=='Cohort2', 'patient_cohort'] =1"
   ]
  },
  {
   "cell_type": "code",
   "execution_count": 41,
   "metadata": {},
   "outputs": [
    {
     "data": {
      "text/plain": [
       "array([0, 1], dtype=object)"
      ]
     },
     "execution_count": 41,
     "metadata": {},
     "output_type": "execute_result"
    }
   ],
   "source": [
    "df['patient_cohort'].unique()"
   ]
  },
  {
   "cell_type": "code",
   "execution_count": 42,
   "metadata": {},
   "outputs": [
    {
     "data": {
      "text/plain": [
       "array(['BPTB', 'LIV', 'ESP', 'UCL'], dtype=object)"
      ]
     },
     "execution_count": 42,
     "metadata": {},
     "output_type": "execute_result"
    }
   ],
   "source": [
    "df['sample_origin'].unique()"
   ]
  },
  {
   "cell_type": "code",
   "execution_count": 43,
   "metadata": {},
   "outputs": [],
   "source": [
    "df.loc[df['sample_origin']=='BPTB','sample_origin'] = 0\n",
    "df.loc[df['sample_origin']=='LIV','sample_origin']  = 1\n",
    "df.loc[df['sample_origin']=='ESP','sample_origin']  = 2\n",
    "df.loc[df['sample_origin']=='UCL','sample_origin']  = 3"
   ]
  },
  {
   "cell_type": "code",
   "execution_count": 44,
   "metadata": {},
   "outputs": [
    {
     "data": {
      "text/plain": [
       "array([0, 1, 2, 3], dtype=object)"
      ]
     },
     "execution_count": 44,
     "metadata": {},
     "output_type": "execute_result"
    }
   ],
   "source": [
    "df['sample_origin'].unique()"
   ]
  },
  {
   "cell_type": "code",
   "execution_count": 45,
   "metadata": {},
   "outputs": [
    {
     "data": {
      "text/plain": [
       "array(['F', 'M'], dtype=object)"
      ]
     },
     "execution_count": 45,
     "metadata": {},
     "output_type": "execute_result"
    }
   ],
   "source": [
    "df['sex'].unique()"
   ]
  },
  {
   "cell_type": "code",
   "execution_count": 46,
   "metadata": {},
   "outputs": [],
   "source": [
    "df.loc[df['sex']=='F','sex'] = 0\n",
    "df.loc[df['sex']=='M','sex'] = 1"
   ]
  },
  {
   "cell_type": "code",
   "execution_count": 47,
   "metadata": {},
   "outputs": [
    {
     "data": {
      "text/plain": [
       "array(['0', 'I', 'IA', 'IB', 'II', 'IIA', 'IIB', 'III', 'IV'],\n",
       "      dtype=object)"
      ]
     },
     "execution_count": 47,
     "metadata": {},
     "output_type": "execute_result"
    }
   ],
   "source": [
    "df['stage'].unique()"
   ]
  },
  {
   "cell_type": "code",
   "execution_count": 48,
   "metadata": {},
   "outputs": [],
   "source": [
    "df.loc[df['stage']=='0','stage'] =0\n",
    "df.loc[df['stage']=='I','stage'] =1\n",
    "df.loc[df['stage']=='IA','stage']=2\n",
    "df.loc[df['stage']=='IB','stage']=3\n",
    "df.loc[df['stage']=='II','stage']=4\n",
    "df.loc[df['stage']=='IIA','stage']=5\n",
    "df.loc[df['stage']=='IIB','stage']=6\n",
    "df.loc[df['stage']=='III','stage']=7\n",
    "df.loc[df['stage']=='IV','stage'] =8"
   ]
  },
  {
   "cell_type": "code",
   "execution_count": 49,
   "metadata": {},
   "outputs": [
    {
     "data": {
      "text/plain": [
       "array([0, 1, 2, 3, 4, 5, 6, 7, 8], dtype=object)"
      ]
     },
     "execution_count": 49,
     "metadata": {},
     "output_type": "execute_result"
    }
   ],
   "source": [
    "df['stage'].unique()"
   ]
  },
  {
   "cell_type": "code",
   "execution_count": 50,
   "metadata": {},
   "outputs": [
    {
     "data": {
      "text/plain": [
       "array(['null', 'Abdominal Pain ',\n",
       "       'Biliary Stricture (Secondary to Stent) ', 'Cholecystitis',\n",
       "       'Cholecystitis ', 'Cholecystitis (Chronic) ',\n",
       "       'Cholecystitis (Chronic) Cholelithiasis',\n",
       "       'Cholecystitis (Chronic) Cholesterolsis', 'Choledochal Cyst ',\n",
       "       'Choledocholiathiasis', 'Choledocholiathiasis ',\n",
       "       'Cholelithiasis with adenomyomatous hyperplasia ',\n",
       "       'Duodenal Stricture', 'Duodenitis', 'Gallbladder polyps ',\n",
       "       'Gallbladder Porcelain', 'Gallstones', 'Gallstones ',\n",
       "       'Gallstones - Incidental ', 'Gastritis ', 'Gastritis and Reflux ',\n",
       "       'Ill defined lesion in uncinate process',\n",
       "       'Ischaemic Common Bile Duct Stricture',\n",
       "       'Pancreatitis (Pseudocyst)', 'Pancreatitis', 'Pancreatitis ',\n",
       "       'Pancreatitis (Abscess)', 'Pancreatitis (Acute)',\n",
       "       'Pancreatitis (Alcohol-Chronic-Pseuodcyst)',\n",
       "       'Pancreatitis (Alcohol-Chronic)', 'Pancreatitis (Alcohol)',\n",
       "       'Pancreatitis (Autoimmune) ', 'Pancreatitis (Chronic-Pseudocyst) ',\n",
       "       'Pancreatitis (Chronic) ',\n",
       "       'Pancreatitis (Chronic) (Later became PDAC)',\n",
       "       'Pancreatitis (Chronic) Choledocholithiasis',\n",
       "       'Pancreatitis (Gallstone-Alcohol-Pseudocyst)',\n",
       "       'Pancreatitis (Gallstone-Pseudocyst)', 'Pancreatitis (Gallstone) ',\n",
       "       'Pancreatitis (Hereditary-Chronic) ',\n",
       "       'Pancreatitis (Hypertriglyceridemia)', 'Pancreatitis (Idiopathic)',\n",
       "       'Pancreatitis (Idiopathic) ',\n",
       "       'Pancreato-jejunostomy Anastomoses Stricture',\n",
       "       'Premalignant lesions-Adenoma-NOS',\n",
       "       'Premalignant lesions-Mucinous cystadenocarcinoma-noninvasive',\n",
       "       'Premalignant lesions-Mucinous cystadenoma-NOS',\n",
       "       'Premalignant lesions-Tubular adenoma-NOS',\n",
       "       'Premalignant lesions-Tubulovillous adenoma-NOS',\n",
       "       'Premalignant lesions-Villous adenoma-NOS',\n",
       "       'Serous cystadenoma - NOS', 'Serous microcystic adenoma',\n",
       "       'Simple benign liver cyst'], dtype=object)"
      ]
     },
     "execution_count": 50,
     "metadata": {},
     "output_type": "execute_result"
    }
   ],
   "source": [
    "df['benign_sample_diagnosis'].unique()"
   ]
  },
  {
   "cell_type": "code",
   "execution_count": 51,
   "metadata": {},
   "outputs": [],
   "source": [
    "df.loc[df['benign_sample_diagnosis']=='null','benign_sample_diagnosis'] = 0\n",
    "df.loc[df['benign_sample_diagnosis']=='Abdominal Pain ','benign_sample_diagnosis'] = 1\n",
    "df.loc[df['benign_sample_diagnosis']=='Biliary Stricture (Secondary to Stent) ','benign_sample_diagnosis'] = 2\n",
    "df.loc[df['benign_sample_diagnosis']=='Cholecystitis','benign_sample_diagnosis'] = 3\n",
    "df.loc[df['benign_sample_diagnosis']=='Cholecystitis ','benign_sample_diagnosis'] = 3\n",
    "df.loc[df['benign_sample_diagnosis']=='Cholecystitis (Chronic) ','benign_sample_diagnosis'] = 4\n",
    "df.loc[df['benign_sample_diagnosis']=='Cholecystitis (Chronic) Cholelithiasis','benign_sample_diagnosis'] = 5\n",
    "df.loc[df['benign_sample_diagnosis']=='Cholecystitis (Chronic) Cholesterolsis','benign_sample_diagnosis'] = 6 \n",
    "df.loc[df['benign_sample_diagnosis']=='Choledochal Cyst ','benign_sample_diagnosis'] = 7\n",
    "df.loc[df['benign_sample_diagnosis']=='Choledocholiathiasis','benign_sample_diagnosis'] = 8\n",
    "df.loc[df['benign_sample_diagnosis']=='Choledocholiathiasis ','benign_sample_diagnosis'] = 8\n",
    "df.loc[df['benign_sample_diagnosis']=='Cholelithiasis with adenomyomatous hyperplasia ','benign_sample_diagnosis'] = 9\n",
    "df.loc[df['benign_sample_diagnosis']=='Duodenal Stricture','benign_sample_diagnosis'] = 10\n",
    "df.loc[df['benign_sample_diagnosis']=='Duodenitis','benign_sample_diagnosis'] = 11\n",
    "df.loc[df['benign_sample_diagnosis']=='Gallbladder polyps ','benign_sample_diagnosis'] = 12\n",
    "df.loc[df['benign_sample_diagnosis']=='Gallbladder Porcelain','benign_sample_diagnosis'] = 13\n",
    "df.loc[df['benign_sample_diagnosis']=='Gallstones','benign_sample_diagnosis'] = 14\n",
    "df.loc[df['benign_sample_diagnosis']=='Gallstones ','benign_sample_diagnosis'] = 14\n",
    "df.loc[df['benign_sample_diagnosis']=='Gallstones - Incidental ','benign_sample_diagnosis'] = 15\n",
    "df.loc[df['benign_sample_diagnosis']=='Gastritis ','benign_sample_diagnosis'] = 16\n",
    "df.loc[df['benign_sample_diagnosis']=='Gastritis and Reflux ','benign_sample_diagnosis'] = 17\n",
    "df.loc[df['benign_sample_diagnosis']=='Ill defined lesion in uncinate process','benign_sample_diagnosis'] = 18\n",
    "df.loc[df['benign_sample_diagnosis']=='Ischaemic Common Bile Duct Stricture','benign_sample_diagnosis'] = 19\n",
    "df.loc[df['benign_sample_diagnosis']=='Pancreatitis (Pseudocyst)','benign_sample_diagnosis'] = 20\n",
    "df.loc[df['benign_sample_diagnosis']=='Pancreatitis','benign_sample_diagnosis'] = 21\n",
    "df.loc[df['benign_sample_diagnosis']=='Pancreatitis ','benign_sample_diagnosis'] = 21\n",
    "df.loc[df['benign_sample_diagnosis']=='Pancreatitis (Abscess)','benign_sample_diagnosis'] = 22\n",
    "df.loc[df['benign_sample_diagnosis']=='Pancreatitis (Acute)','benign_sample_diagnosis'] = 23\n",
    "df.loc[df['benign_sample_diagnosis']=='Pancreatitis (Alcohol-Chronic-Pseuodcyst)','benign_sample_diagnosis'] = 24\n",
    "df.loc[df['benign_sample_diagnosis']=='Pancreatitis (Alcohol-Chronic)','benign_sample_diagnosis'] = 25\n",
    "df.loc[df['benign_sample_diagnosis']=='Pancreatitis (Alcohol)','benign_sample_diagnosis'] = 26\n",
    "df.loc[df['benign_sample_diagnosis']=='Pancreatitis (Autoimmune) ','benign_sample_diagnosis'] = 27\n",
    "df.loc[df['benign_sample_diagnosis']=='Pancreatitis (Chronic-Pseudocyst) ','benign_sample_diagnosis'] = 28\n",
    "df.loc[df['benign_sample_diagnosis']=='Pancreatitis (Chronic) ','benign_sample_diagnosis'] = 29\n",
    "df.loc[df['benign_sample_diagnosis']=='Pancreatitis (Chronic) (Later became PDAC)','benign_sample_diagnosis'] = 30\n",
    "df.loc[df['benign_sample_diagnosis']=='Pancreatitis (Chronic) Choledocholithiasis','benign_sample_diagnosis'] = 31\n",
    "df.loc[df['benign_sample_diagnosis']=='Pancreatitis (Gallstone-Alcohol-Pseudocyst)','benign_sample_diagnosis'] = 32\n",
    "df.loc[df['benign_sample_diagnosis']=='Pancreatitis (Gallstone-Pseudocyst)','benign_sample_diagnosis'] = 33\n",
    "df.loc[df['benign_sample_diagnosis']=='Pancreatitis (Gallstone) ','benign_sample_diagnosis'] = 34\n",
    "df.loc[df['benign_sample_diagnosis']=='Pancreatitis (Hereditary-Chronic) ','benign_sample_diagnosis'] = 35\n",
    "df.loc[df['benign_sample_diagnosis']=='Pancreatitis (Hypertriglyceridemia)','benign_sample_diagnosis'] = 36\n",
    "df.loc[df['benign_sample_diagnosis']=='Pancreatitis (Idiopathic)','benign_sample_diagnosis'] = 37\n",
    "df.loc[df['benign_sample_diagnosis']=='Pancreatitis (Idiopathic) ','benign_sample_diagnosis'] = 37\n",
    "df.loc[df['benign_sample_diagnosis']=='Pancreato-jejunostomy Anastomoses Stricture','benign_sample_diagnosis'] = 38\n",
    "df.loc[df['benign_sample_diagnosis']=='Premalignant lesions-Adenoma-NOS','benign_sample_diagnosis'] = 39\n",
    "df.loc[df['benign_sample_diagnosis']=='Premalignant lesions-Mucinous cystadenocarcinoma-noninvasive','benign_sample_diagnosis'] = 40\n",
    "df.loc[df['benign_sample_diagnosis']=='Premalignant lesions-Mucinous cystadenoma-NOS','benign_sample_diagnosis'] = 41\n",
    "df.loc[df['benign_sample_diagnosis']=='Premalignant lesions-Tubular adenoma-NOS','benign_sample_diagnosis'] = 42\n",
    "df.loc[df['benign_sample_diagnosis']=='Premalignant lesions-Tubulovillous adenoma-NOS','benign_sample_diagnosis'] = 43\n",
    "df.loc[df['benign_sample_diagnosis']=='Premalignant lesions-Villous adenoma-NOS','benign_sample_diagnosis'] = 44\n",
    "df.loc[df['benign_sample_diagnosis']=='Serous cystadenoma - NOS','benign_sample_diagnosis'] = 45\n",
    "df.loc[df['benign_sample_diagnosis']=='Serous microcystic adenoma','benign_sample_diagnosis'] = 46\n",
    "df.loc[df['benign_sample_diagnosis']=='Simple benign liver cyst','benign_sample_diagnosis'] = 47\n",
    " "
   ]
  },
  {
   "cell_type": "code",
   "execution_count": 52,
   "metadata": {},
   "outputs": [
    {
     "data": {
      "text/plain": [
       "array([0, 1, 2, 3, 4, 5, 6, 7, 8, 9, 10, 11, 12, 13, 14, 15, 16, 17, 18,\n",
       "       19, 20, 21, 22, 23, 24, 25, 26, 27, 28, 29, 30, 31, 32, 33, 34, 35,\n",
       "       36, 37, 38, 39, 40, 41, 42, 43, 44, 45, 46, 47], dtype=object)"
      ]
     },
     "execution_count": 52,
     "metadata": {},
     "output_type": "execute_result"
    }
   ],
   "source": [
    "df['benign_sample_diagnosis'].unique()"
   ]
  },
  {
   "cell_type": "code",
   "execution_count": 53,
   "metadata": {},
   "outputs": [
    {
     "name": "stdout",
     "output_type": "stream",
     "text": [
      "<class 'pandas.core.frame.DataFrame'>\n",
      "RangeIndex: 590 entries, 0 to 589\n",
      "Data columns (total 14 columns):\n",
      " #   Column                   Non-Null Count  Dtype  \n",
      "---  ------                   --------------  -----  \n",
      " 0   sample_id                590 non-null    object \n",
      " 1   patient_cohort           590 non-null    object \n",
      " 2   sample_origin            590 non-null    object \n",
      " 3   age                      590 non-null    int64  \n",
      " 4   sex                      590 non-null    object \n",
      " 5   diagnosis                590 non-null    int64  \n",
      " 6   stage                    590 non-null    object \n",
      " 7   benign_sample_diagnosis  590 non-null    object \n",
      " 8   plasma_CA19_9            590 non-null    float64\n",
      " 9   creatinine               590 non-null    float64\n",
      " 10  LYVE1                    590 non-null    float64\n",
      " 11  REG1B                    590 non-null    float64\n",
      " 12  TFF1                     590 non-null    float64\n",
      " 13  REG1A                    590 non-null    float64\n",
      "dtypes: float64(6), int64(2), object(6)\n",
      "memory usage: 64.7+ KB\n"
     ]
    }
   ],
   "source": [
    "df.info()"
   ]
  },
  {
   "cell_type": "code",
   "execution_count": 55,
   "metadata": {},
   "outputs": [],
   "source": [
    "X = df.drop(['sample_id','diagnosis'], axis=1).values\n",
    "\n",
    "y = df['diagnosis'].values"
   ]
  },
  {
   "cell_type": "code",
   "execution_count": 56,
   "metadata": {},
   "outputs": [
    {
     "data": {
      "text/plain": [
       "(590, 12)"
      ]
     },
     "execution_count": 56,
     "metadata": {},
     "output_type": "execute_result"
    }
   ],
   "source": [
    "X.shape"
   ]
  },
  {
   "cell_type": "code",
   "execution_count": 57,
   "metadata": {},
   "outputs": [
    {
     "data": {
      "text/plain": [
       "array([1, 1, 1, 1, 1, 1, 1, 1, 1, 1, 1, 1, 1, 1, 1, 1, 1, 1, 1, 1, 1, 1,\n",
       "       1, 1, 1, 1, 1, 1, 1, 1, 1, 1, 1, 1, 1, 1, 1, 1, 1, 1, 1, 1, 1, 1,\n",
       "       1, 1, 1, 1, 1, 1, 1, 1, 1, 1, 1, 1, 1, 1, 1, 1, 1, 1, 1, 1, 1, 1,\n",
       "       1, 1, 1, 1, 1, 1, 1, 1, 1, 1, 1, 1, 1, 1, 1, 1, 1, 1, 1, 1, 1, 1,\n",
       "       1, 1, 1, 1, 1, 1, 1, 1, 1, 1, 1, 1, 1, 1, 1, 1, 1, 1, 1, 1, 1, 1,\n",
       "       1, 1, 1, 1, 1, 1, 1, 1, 1, 1, 1, 1, 1, 1, 1, 1, 1, 1, 1, 1, 1, 1,\n",
       "       1, 1, 1, 1, 1, 1, 1, 1, 1, 1, 1, 1, 1, 1, 1, 1, 1, 1, 1, 1, 1, 1,\n",
       "       1, 1, 1, 1, 1, 1, 1, 1, 1, 1, 1, 1, 1, 1, 1, 1, 1, 1, 1, 1, 1, 1,\n",
       "       1, 1, 1, 1, 1, 1, 1, 2, 2, 2, 2, 2, 2, 2, 2, 2, 2, 2, 2, 2, 2, 2,\n",
       "       2, 2, 2, 2, 2, 2, 2, 2, 2, 2, 2, 2, 2, 2, 2, 2, 2, 2, 2, 2, 2, 2,\n",
       "       2, 2, 2, 2, 2, 2, 2, 2, 2, 2, 2, 2, 2, 2, 2, 2, 2, 2, 2, 2, 2, 2,\n",
       "       2, 2, 2, 2, 2, 2, 2, 2, 2, 2, 2, 2, 2, 2, 2, 2, 2, 2, 2, 2, 2, 2,\n",
       "       2, 2, 2, 2, 2, 2, 2, 2, 2, 2, 2, 2, 2, 2, 2, 2, 2, 2, 2, 2, 2, 2,\n",
       "       2, 2, 2, 2, 2, 2, 2, 2, 2, 2, 2, 2, 2, 2, 2, 2, 2, 2, 2, 2, 2, 2,\n",
       "       2, 2, 2, 2, 2, 2, 2, 2, 2, 2, 2, 2, 2, 2, 2, 2, 2, 2, 2, 2, 2, 2,\n",
       "       2, 2, 2, 2, 2, 2, 2, 2, 2, 2, 2, 2, 2, 2, 2, 2, 2, 2, 2, 2, 2, 2,\n",
       "       2, 2, 2, 2, 2, 2, 2, 2, 2, 2, 2, 2, 2, 2, 2, 2, 2, 2, 2, 2, 2, 2,\n",
       "       2, 2, 2, 2, 2, 2, 2, 2, 2, 2, 2, 2, 2, 2, 2, 2, 2, 3, 3, 3, 3, 3,\n",
       "       3, 3, 3, 3, 3, 3, 3, 3, 3, 3, 3, 3, 3, 3, 3, 3, 3, 3, 3, 3, 3, 3,\n",
       "       3, 3, 3, 3, 3, 3, 3, 3, 3, 3, 3, 3, 3, 3, 3, 3, 3, 3, 3, 3, 3, 3,\n",
       "       3, 3, 3, 3, 3, 3, 3, 3, 3, 3, 3, 3, 3, 3, 3, 3, 3, 3, 3, 3, 3, 3,\n",
       "       3, 3, 3, 3, 3, 3, 3, 3, 3, 3, 3, 3, 3, 3, 3, 3, 3, 3, 3, 3, 3, 3,\n",
       "       3, 3, 3, 3, 3, 3, 3, 3, 3, 3, 3, 3, 3, 3, 3, 3, 3, 3, 3, 3, 3, 3,\n",
       "       3, 3, 3, 3, 3, 3, 3, 3, 3, 3, 3, 3, 3, 3, 3, 3, 3, 3, 3, 3, 3, 3,\n",
       "       3, 3, 3, 3, 3, 3, 3, 3, 3, 3, 3, 3, 3, 3, 3, 3, 3, 3, 3, 3, 3, 3,\n",
       "       3, 3, 3, 3, 3, 3, 3, 3, 3, 3, 3, 3, 3, 3, 3, 3, 3, 3, 3, 3, 3, 3,\n",
       "       3, 3, 3, 3, 3, 3, 3, 3, 3, 3, 3, 3, 3, 3, 3, 3, 3, 3], dtype=int64)"
      ]
     },
     "execution_count": 57,
     "metadata": {},
     "output_type": "execute_result"
    }
   ],
   "source": [
    "y"
   ]
  },
  {
   "cell_type": "code",
   "execution_count": 58,
   "metadata": {},
   "outputs": [],
   "source": [
    "from imblearn.over_sampling import RandomOverSampler\n",
    "ro=RandomOverSampler()\n",
    "x_data,y_data=ro.fit_resample(X,y)"
   ]
  },
  {
   "cell_type": "code",
   "execution_count": 59,
   "metadata": {},
   "outputs": [
    {
     "name": "stdout",
     "output_type": "stream",
     "text": [
      "Actual Data: Counter({2: 208, 3: 199, 1: 183})\n"
     ]
    }
   ],
   "source": [
    "from collections import Counter\n",
    "print(\"Actual Data:\",Counter(y))"
   ]
  },
  {
   "cell_type": "code",
   "execution_count": 60,
   "metadata": {},
   "outputs": [
    {
     "name": "stdout",
     "output_type": "stream",
     "text": [
      "Artificial Data: Counter({1: 208, 2: 208, 3: 208})\n"
     ]
    }
   ],
   "source": [
    "print(\"Artificial Data:\",Counter(y_data))\n"
   ]
  },
  {
   "cell_type": "markdown",
   "metadata": {},
   "source": [
    "Model Creation"
   ]
  },
  {
   "cell_type": "code",
   "execution_count": 61,
   "metadata": {},
   "outputs": [],
   "source": [
    "from sklearn.model_selection import train_test_split\n",
    "\n",
    "x_train,x_test,y_train,y_test = train_test_split(x_data,y_data,test_size=0.2,random_state=10)"
   ]
  },
  {
   "cell_type": "code",
   "execution_count": 62,
   "metadata": {},
   "outputs": [],
   "source": [
    "import sklearn.metrics\n",
    "from sklearn.preprocessing import RobustScaler\n",
    "from sklearn.ensemble import RandomForestClassifier\n",
    "from sklearn.metrics import classification_report, confusion_matrix, accuracy_score"
   ]
  },
  {
   "cell_type": "code",
   "execution_count": 63,
   "metadata": {},
   "outputs": [],
   "source": [
    "rfc = RandomForestClassifier(n_estimators=60, random_state=23)"
   ]
  },
  {
   "cell_type": "code",
   "execution_count": 64,
   "metadata": {},
   "outputs": [
    {
     "data": {
      "text/html": [
       "<style>#sk-container-id-1 {color: black;background-color: white;}#sk-container-id-1 pre{padding: 0;}#sk-container-id-1 div.sk-toggleable {background-color: white;}#sk-container-id-1 label.sk-toggleable__label {cursor: pointer;display: block;width: 100%;margin-bottom: 0;padding: 0.3em;box-sizing: border-box;text-align: center;}#sk-container-id-1 label.sk-toggleable__label-arrow:before {content: \"▸\";float: left;margin-right: 0.25em;color: #696969;}#sk-container-id-1 label.sk-toggleable__label-arrow:hover:before {color: black;}#sk-container-id-1 div.sk-estimator:hover label.sk-toggleable__label-arrow:before {color: black;}#sk-container-id-1 div.sk-toggleable__content {max-height: 0;max-width: 0;overflow: hidden;text-align: left;background-color: #f0f8ff;}#sk-container-id-1 div.sk-toggleable__content pre {margin: 0.2em;color: black;border-radius: 0.25em;background-color: #f0f8ff;}#sk-container-id-1 input.sk-toggleable__control:checked~div.sk-toggleable__content {max-height: 200px;max-width: 100%;overflow: auto;}#sk-container-id-1 input.sk-toggleable__control:checked~label.sk-toggleable__label-arrow:before {content: \"▾\";}#sk-container-id-1 div.sk-estimator input.sk-toggleable__control:checked~label.sk-toggleable__label {background-color: #d4ebff;}#sk-container-id-1 div.sk-label input.sk-toggleable__control:checked~label.sk-toggleable__label {background-color: #d4ebff;}#sk-container-id-1 input.sk-hidden--visually {border: 0;clip: rect(1px 1px 1px 1px);clip: rect(1px, 1px, 1px, 1px);height: 1px;margin: -1px;overflow: hidden;padding: 0;position: absolute;width: 1px;}#sk-container-id-1 div.sk-estimator {font-family: monospace;background-color: #f0f8ff;border: 1px dotted black;border-radius: 0.25em;box-sizing: border-box;margin-bottom: 0.5em;}#sk-container-id-1 div.sk-estimator:hover {background-color: #d4ebff;}#sk-container-id-1 div.sk-parallel-item::after {content: \"\";width: 100%;border-bottom: 1px solid gray;flex-grow: 1;}#sk-container-id-1 div.sk-label:hover label.sk-toggleable__label {background-color: #d4ebff;}#sk-container-id-1 div.sk-serial::before {content: \"\";position: absolute;border-left: 1px solid gray;box-sizing: border-box;top: 0;bottom: 0;left: 50%;z-index: 0;}#sk-container-id-1 div.sk-serial {display: flex;flex-direction: column;align-items: center;background-color: white;padding-right: 0.2em;padding-left: 0.2em;position: relative;}#sk-container-id-1 div.sk-item {position: relative;z-index: 1;}#sk-container-id-1 div.sk-parallel {display: flex;align-items: stretch;justify-content: center;background-color: white;position: relative;}#sk-container-id-1 div.sk-item::before, #sk-container-id-1 div.sk-parallel-item::before {content: \"\";position: absolute;border-left: 1px solid gray;box-sizing: border-box;top: 0;bottom: 0;left: 50%;z-index: -1;}#sk-container-id-1 div.sk-parallel-item {display: flex;flex-direction: column;z-index: 1;position: relative;background-color: white;}#sk-container-id-1 div.sk-parallel-item:first-child::after {align-self: flex-end;width: 50%;}#sk-container-id-1 div.sk-parallel-item:last-child::after {align-self: flex-start;width: 50%;}#sk-container-id-1 div.sk-parallel-item:only-child::after {width: 0;}#sk-container-id-1 div.sk-dashed-wrapped {border: 1px dashed gray;margin: 0 0.4em 0.5em 0.4em;box-sizing: border-box;padding-bottom: 0.4em;background-color: white;}#sk-container-id-1 div.sk-label label {font-family: monospace;font-weight: bold;display: inline-block;line-height: 1.2em;}#sk-container-id-1 div.sk-label-container {text-align: center;}#sk-container-id-1 div.sk-container {/* jupyter's `normalize.less` sets `[hidden] { display: none; }` but bootstrap.min.css set `[hidden] { display: none !important; }` so we also need the `!important` here to be able to override the default hidden behavior on the sphinx rendered scikit-learn.org. See: https://github.com/scikit-learn/scikit-learn/issues/21755 */display: inline-block !important;position: relative;}#sk-container-id-1 div.sk-text-repr-fallback {display: none;}</style><div id=\"sk-container-id-1\" class=\"sk-top-container\"><div class=\"sk-text-repr-fallback\"><pre>RandomForestClassifier(n_estimators=60, random_state=23)</pre><b>In a Jupyter environment, please rerun this cell to show the HTML representation or trust the notebook. <br />On GitHub, the HTML representation is unable to render, please try loading this page with nbviewer.org.</b></div><div class=\"sk-container\" hidden><div class=\"sk-item\"><div class=\"sk-estimator sk-toggleable\"><input class=\"sk-toggleable__control sk-hidden--visually\" id=\"sk-estimator-id-1\" type=\"checkbox\" checked><label for=\"sk-estimator-id-1\" class=\"sk-toggleable__label sk-toggleable__label-arrow\">RandomForestClassifier</label><div class=\"sk-toggleable__content\"><pre>RandomForestClassifier(n_estimators=60, random_state=23)</pre></div></div></div></div></div>"
      ],
      "text/plain": [
       "RandomForestClassifier(n_estimators=60, random_state=23)"
      ]
     },
     "execution_count": 64,
     "metadata": {},
     "output_type": "execute_result"
    }
   ],
   "source": [
    "rfc.fit(x_train,y_train)"
   ]
  },
  {
   "cell_type": "code",
   "execution_count": 65,
   "metadata": {},
   "outputs": [
    {
     "data": {
      "text/plain": [
       "1.0"
      ]
     },
     "execution_count": 65,
     "metadata": {},
     "output_type": "execute_result"
    }
   ],
   "source": [
    "rfc.score(x_train,y_train)"
   ]
  },
  {
   "cell_type": "code",
   "execution_count": 66,
   "metadata": {},
   "outputs": [
    {
     "data": {
      "text/plain": [
       "1.0"
      ]
     },
     "execution_count": 66,
     "metadata": {},
     "output_type": "execute_result"
    }
   ],
   "source": [
    "y_pred = rfc.predict(x_test)\n",
    "accuracy_score(y_pred,y_test) "
   ]
  },
  {
   "cell_type": "code",
   "execution_count": 67,
   "metadata": {},
   "outputs": [],
   "source": []
  },
  {
   "cell_type": "code",
   "execution_count": 68,
   "metadata": {},
   "outputs": [
    {
     "name": "stdout",
     "output_type": "stream",
     "text": [
      "              precision    recall  f1-score   support\n",
      "\n",
      "           1       1.00      1.00      1.00        41\n",
      "           2       1.00      1.00      1.00        48\n",
      "           3       1.00      1.00      1.00        36\n",
      "\n",
      "    accuracy                           1.00       125\n",
      "   macro avg       1.00      1.00      1.00       125\n",
      "weighted avg       1.00      1.00      1.00       125\n",
      "\n"
     ]
    }
   ],
   "source": [
    "print(sklearn.metrics.classification_report(y_test, y_pred))"
   ]
  },
  {
   "cell_type": "code",
   "execution_count": 69,
   "metadata": {},
   "outputs": [
    {
     "data": {
      "text/plain": [
       "array([[41,  0,  0],\n",
       "       [ 0, 48,  0],\n",
       "       [ 0,  0, 36]], dtype=int64)"
      ]
     },
     "execution_count": 69,
     "metadata": {},
     "output_type": "execute_result"
    }
   ],
   "source": [
    "y_pred = rfc.predict(x_test )\n",
    "y_true=y_test\n",
    "\n",
    "\n",
    "from sklearn.metrics import confusion_matrix\n",
    "cm=confusion_matrix(y_true,y_pred)\n",
    "cm"
   ]
  },
  {
   "cell_type": "code",
   "execution_count": 70,
   "metadata": {},
   "outputs": [
    {
     "data": {
      "image/png": "[encoded data removed]",
      "text/plain": [
       "<Figure size 500x500 with 2 Axes>"
      ]
     },
     "metadata": {},
     "output_type": "display_data"
    }
   ],
   "source": [
    "import seaborn as sns\n",
    "import matplotlib.pyplot as plt\n",
    "\n",
    "f, ax=plt.subplots(figsize=(5,5))\n",
    "sns.heatmap(cm,annot=True,linewidths=0.5,linecolor=\"red\",fmt=\".0f\",ax=ax)\n",
    "plt.xlabel(\"y_pred\")\n",
    "plt.ylabel(\"y_true\")\n",
    "plt.show()"
   ]
  },
  {
   "cell_type": "code",
   "execution_count": 73,
   "metadata": {},
   "outputs": [],
   "source": [
    "import pickle\n",
    "\n",
    "pickle.dump(rfc,open('C:/Users/N Vishnu/Web page/pancreatic_random.pkl','wb'))\n",
    "random = pickle.load(open('C:/Users/N Vishnu/Web page/pancreatic_random.pkl','rb'))"
   ]
  },
  {
   "cell_type": "code",
   "execution_count": 74,
   "metadata": {},
   "outputs": [],
   "source": [
    "from sklearn.naive_bayes import GaussianNB\n",
    "gnb = GaussianNB()"
   ]
  },
  {
   "cell_type": "code",
   "execution_count": 75,
   "metadata": {},
   "outputs": [
    {
     "data": {
      "text/html": [
       "<style>#sk-container-id-2 {color: black;background-color: white;}#sk-container-id-2 pre{padding: 0;}#sk-container-id-2 div.sk-toggleable {background-color: white;}#sk-container-id-2 label.sk-toggleable__label {cursor: pointer;display: block;width: 100%;margin-bottom: 0;padding: 0.3em;box-sizing: border-box;text-align: center;}#sk-container-id-2 label.sk-toggleable__label-arrow:before {content: \"▸\";float: left;margin-right: 0.25em;color: #696969;}#sk-container-id-2 label.sk-toggleable__label-arrow:hover:before {color: black;}#sk-container-id-2 div.sk-estimator:hover label.sk-toggleable__label-arrow:before {color: black;}#sk-container-id-2 div.sk-toggleable__content {max-height: 0;max-width: 0;overflow: hidden;text-align: left;background-color: #f0f8ff;}#sk-container-id-2 div.sk-toggleable__content pre {margin: 0.2em;color: black;border-radius: 0.25em;background-color: #f0f8ff;}#sk-container-id-2 input.sk-toggleable__control:checked~div.sk-toggleable__content {max-height: 200px;max-width: 100%;overflow: auto;}#sk-container-id-2 input.sk-toggleable__control:checked~label.sk-toggleable__label-arrow:before {content: \"▾\";}#sk-container-id-2 div.sk-estimator input.sk-toggleable__control:checked~label.sk-toggleable__label {background-color: #d4ebff;}#sk-container-id-2 div.sk-label input.sk-toggleable__control:checked~label.sk-toggleable__label {background-color: #d4ebff;}#sk-container-id-2 input.sk-hidden--visually {border: 0;clip: rect(1px 1px 1px 1px);clip: rect(1px, 1px, 1px, 1px);height: 1px;margin: -1px;overflow: hidden;padding: 0;position: absolute;width: 1px;}#sk-container-id-2 div.sk-estimator {font-family: monospace;background-color: #f0f8ff;border: 1px dotted black;border-radius: 0.25em;box-sizing: border-box;margin-bottom: 0.5em;}#sk-container-id-2 div.sk-estimator:hover {background-color: #d4ebff;}#sk-container-id-2 div.sk-parallel-item::after {content: \"\";width: 100%;border-bottom: 1px solid gray;flex-grow: 1;}#sk-container-id-2 div.sk-label:hover label.sk-toggleable__label {background-color: #d4ebff;}#sk-container-id-2 div.sk-serial::before {content: \"\";position: absolute;border-left: 1px solid gray;box-sizing: border-box;top: 0;bottom: 0;left: 50%;z-index: 0;}#sk-container-id-2 div.sk-serial {display: flex;flex-direction: column;align-items: center;background-color: white;padding-right: 0.2em;padding-left: 0.2em;position: relative;}#sk-container-id-2 div.sk-item {position: relative;z-index: 1;}#sk-container-id-2 div.sk-parallel {display: flex;align-items: stretch;justify-content: center;background-color: white;position: relative;}#sk-container-id-2 div.sk-item::before, #sk-container-id-2 div.sk-parallel-item::before {content: \"\";position: absolute;border-left: 1px solid gray;box-sizing: border-box;top: 0;bottom: 0;left: 50%;z-index: -1;}#sk-container-id-2 div.sk-parallel-item {display: flex;flex-direction: column;z-index: 1;position: relative;background-color: white;}#sk-container-id-2 div.sk-parallel-item:first-child::after {align-self: flex-end;width: 50%;}#sk-container-id-2 div.sk-parallel-item:last-child::after {align-self: flex-start;width: 50%;}#sk-container-id-2 div.sk-parallel-item:only-child::after {width: 0;}#sk-container-id-2 div.sk-dashed-wrapped {border: 1px dashed gray;margin: 0 0.4em 0.5em 0.4em;box-sizing: border-box;padding-bottom: 0.4em;background-color: white;}#sk-container-id-2 div.sk-label label {font-family: monospace;font-weight: bold;display: inline-block;line-height: 1.2em;}#sk-container-id-2 div.sk-label-container {text-align: center;}#sk-container-id-2 div.sk-container {/* jupyter's `normalize.less` sets `[hidden] { display: none; }` but bootstrap.min.css set `[hidden] { display: none !important; }` so we also need the `!important` here to be able to override the default hidden behavior on the sphinx rendered scikit-learn.org. See: https://github.com/scikit-learn/scikit-learn/issues/21755 */display: inline-block !important;position: relative;}#sk-container-id-2 div.sk-text-repr-fallback {display: none;}</style><div id=\"sk-container-id-2\" class=\"sk-top-container\"><div class=\"sk-text-repr-fallback\"><pre>GaussianNB()</pre><b>In a Jupyter environment, please rerun this cell to show the HTML representation or trust the notebook. <br />On GitHub, the HTML representation is unable to render, please try loading this page with nbviewer.org.</b></div><div class=\"sk-container\" hidden><div class=\"sk-item\"><div class=\"sk-estimator sk-toggleable\"><input class=\"sk-toggleable__control sk-hidden--visually\" id=\"sk-estimator-id-2\" type=\"checkbox\" checked><label for=\"sk-estimator-id-2\" class=\"sk-toggleable__label sk-toggleable__label-arrow\">GaussianNB</label><div class=\"sk-toggleable__content\"><pre>GaussianNB()</pre></div></div></div></div></div>"
      ],
      "text/plain": [
       "GaussianNB()"
      ]
     },
     "execution_count": 75,
     "metadata": {},
     "output_type": "execute_result"
    }
   ],
   "source": [
    "gnb.fit(x_train, y_train)"
   ]
  },
  {
   "cell_type": "code",
   "execution_count": 76,
   "metadata": {},
   "outputs": [
    {
     "data": {
      "text/plain": [
       "0.9939879759519038"
      ]
     },
     "execution_count": 76,
     "metadata": {},
     "output_type": "execute_result"
    }
   ],
   "source": [
    "gnb.score(x_train, y_train)"
   ]
  },
  {
   "cell_type": "code",
   "execution_count": 77,
   "metadata": {},
   "outputs": [
    {
     "data": {
      "text/plain": [
       "0.992"
      ]
     },
     "execution_count": 77,
     "metadata": {},
     "output_type": "execute_result"
    }
   ],
   "source": [
    "y_pred = gnb.predict(x_test)\n",
    "accuracy_score(y_pred,y_test) "
   ]
  },
  {
   "cell_type": "code",
   "execution_count": 78,
   "metadata": {},
   "outputs": [
    {
     "name": "stdout",
     "output_type": "stream",
     "text": [
      "              precision    recall  f1-score   support\n",
      "\n",
      "           1       1.00      0.98      0.99        41\n",
      "           2       1.00      1.00      1.00        48\n",
      "           3       0.97      1.00      0.99        36\n",
      "\n",
      "    accuracy                           0.99       125\n",
      "   macro avg       0.99      0.99      0.99       125\n",
      "weighted avg       0.99      0.99      0.99       125\n",
      "\n"
     ]
    }
   ],
   "source": [
    "print(sklearn.metrics.classification_report(y_test, y_pred))"
   ]
  },
  {
   "cell_type": "code",
   "execution_count": 79,
   "metadata": {},
   "outputs": [
    {
     "data": {
      "text/plain": [
       "array([[40,  0,  1],\n",
       "       [ 0, 48,  0],\n",
       "       [ 0,  0, 36]], dtype=int64)"
      ]
     },
     "execution_count": 79,
     "metadata": {},
     "output_type": "execute_result"
    }
   ],
   "source": [
    "y_pred = gnb.predict(x_test )\n",
    "y_true=y_test\n",
    "\n",
    "\n",
    "cm=confusion_matrix(y_true,y_pred)\n",
    "cm"
   ]
  },
  {
   "cell_type": "code",
   "execution_count": 80,
   "metadata": {
    "scrolled": false
   },
   "outputs": [
    {
     "data": {
      "image/png": "[encoded data removed]",
      "text/plain": [
       "<Figure size 500x500 with 2 Axes>"
      ]
     },
     "metadata": {},
     "output_type": "display_data"
    }
   ],
   "source": [
    "f, ax=plt.subplots(figsize=(5,5))\n",
    "sns.heatmap(cm,annot=True,linewidths=0.5,linecolor=\"red\",fmt=\".0f\",ax=ax)\n",
    "plt.xlabel(\"y_pred\")\n",
    "plt.ylabel(\"y_true\")\n",
    "plt.show()"
   ]
  },
  {
   "cell_type": "code",
   "execution_count": 82,
   "metadata": {},
   "outputs": [],
   "source": [
    "import pickle\n",
    "\n",
    "pickle.dump(gnb,open('C:/Users/N Vishnu/Web page/pancreatic_naive.pkl','wb'))\n",
    "naive = pickle.load(open('C:/Users/N Vishnu/Web page/pancreatic_naive.pkl','rb'))"
   ]
  },
  {
   "cell_type": "code",
   "execution_count": null,
   "metadata": {},
   "outputs": [],
   "source": []
  },
  {
   "cell_type": "code",
   "execution_count": null,
   "metadata": {},
   "outputs": [],
   "source": []
  }
 ],
 "metadata": {
  "kernelspec": {
   "display_name": "Python 3 (ipykernel)",
   "language": "python",
   "name": "python3"
  },
  "language_info": {
   "codemirror_mode": {
    "name": "ipython",
    "version": 3
   },
   "file_extension": ".py",
   "mimetype": "text/x-python",
   "name": "python",
   "nbconvert_exporter": "python",
   "pygments_lexer": "ipython3",
   "version": "3.10.9"
  }
 },
 "nbformat": 4,
 "nbformat_minor": 2
}
